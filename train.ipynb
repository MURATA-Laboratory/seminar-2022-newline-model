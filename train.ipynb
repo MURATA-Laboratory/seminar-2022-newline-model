{
  "cells": [
    {
      "cell_type": "markdown",
      "metadata": {
        "id": "uJPKJpeQRcp7"
      },
      "source": [
        "# 改行・読点挿入モデル 学習ノートブック\n"
      ]
    },
    {
      "cell_type": "markdown",
      "metadata": {
        "id": "g3QeER9aSAt_"
      },
      "source": [
        "## Mount\n"
      ]
    },
    {
      "cell_type": "code",
      "execution_count": 1,
      "metadata": {
        "colab": {
          "base_uri": "https://localhost:8080/"
        },
        "id": "2S5T6ThmR5cK",
        "outputId": "2ef3d58d-58a2-403e-f57f-c002b5f40bb1"
      },
      "outputs": [
        {
          "name": "stdout",
          "output_type": "stream",
          "text": [
            "Mounted at /content/drive\n"
          ]
        }
      ],
      "source": [
        "from google.colab import drive\n",
        "\n",
        "drive.mount(\"/content/drive\")\n"
      ]
    },
    {
      "cell_type": "markdown",
      "metadata": {
        "id": "fhaPZCrtRcqA"
      },
      "source": [
        "## Libraries\n"
      ]
    },
    {
      "cell_type": "code",
      "execution_count": 2,
      "metadata": {
        "colab": {
          "base_uri": "https://localhost:8080/"
        },
        "id": "s1oSz-glRhRQ",
        "outputId": "2d0f076d-fe08-49fe-be08-74b51667c26f"
      },
      "outputs": [
        {
          "name": "stdout",
          "output_type": "stream",
          "text": [
            "Looking in indexes: https://pypi.org/simple, https://us-python.pkg.dev/colab-wheels/public/simple/\n",
            "Collecting transformers\n",
            "  Downloading transformers-4.25.1-py3-none-any.whl (5.8 MB)\n",
            "\u001b[K     |████████████████████████████████| 5.8 MB 32.9 MB/s \n",
            "\u001b[?25hRequirement already satisfied: regex!=2019.12.17 in /usr/local/lib/python3.8/dist-packages (from transformers) (2022.6.2)\n",
            "Requirement already satisfied: packaging>=20.0 in /usr/local/lib/python3.8/dist-packages (from transformers) (21.3)\n",
            "Requirement already satisfied: pyyaml>=5.1 in /usr/local/lib/python3.8/dist-packages (from transformers) (6.0)\n",
            "Requirement already satisfied: tqdm>=4.27 in /usr/local/lib/python3.8/dist-packages (from transformers) (4.64.1)\n",
            "Requirement already satisfied: filelock in /usr/local/lib/python3.8/dist-packages (from transformers) (3.8.2)\n",
            "Collecting tokenizers!=0.11.3,<0.14,>=0.11.1\n",
            "  Downloading tokenizers-0.13.2-cp38-cp38-manylinux_2_17_x86_64.manylinux2014_x86_64.whl (7.6 MB)\n",
            "\u001b[K     |████████████████████████████████| 7.6 MB 71.1 MB/s \n",
            "\u001b[?25hRequirement already satisfied: numpy>=1.17 in /usr/local/lib/python3.8/dist-packages (from transformers) (1.21.6)\n",
            "Requirement already satisfied: requests in /usr/local/lib/python3.8/dist-packages (from transformers) (2.23.0)\n",
            "Collecting huggingface-hub<1.0,>=0.10.0\n",
            "  Downloading huggingface_hub-0.11.1-py3-none-any.whl (182 kB)\n",
            "\u001b[K     |████████████████████████████████| 182 kB 76.3 MB/s \n",
            "\u001b[?25hRequirement already satisfied: typing-extensions>=3.7.4.3 in /usr/local/lib/python3.8/dist-packages (from huggingface-hub<1.0,>=0.10.0->transformers) (4.4.0)\n",
            "Requirement already satisfied: pyparsing!=3.0.5,>=2.0.2 in /usr/local/lib/python3.8/dist-packages (from packaging>=20.0->transformers) (3.0.9)\n",
            "Requirement already satisfied: idna<3,>=2.5 in /usr/local/lib/python3.8/dist-packages (from requests->transformers) (2.10)\n",
            "Requirement already satisfied: urllib3!=1.25.0,!=1.25.1,<1.26,>=1.21.1 in /usr/local/lib/python3.8/dist-packages (from requests->transformers) (1.24.3)\n",
            "Requirement already satisfied: certifi>=2017.4.17 in /usr/local/lib/python3.8/dist-packages (from requests->transformers) (2022.12.7)\n",
            "Requirement already satisfied: chardet<4,>=3.0.2 in /usr/local/lib/python3.8/dist-packages (from requests->transformers) (3.0.4)\n",
            "Installing collected packages: tokenizers, huggingface-hub, transformers\n",
            "Successfully installed huggingface-hub-0.11.1 tokenizers-0.13.2 transformers-4.25.1\n",
            "Looking in indexes: https://pypi.org/simple, https://us-python.pkg.dev/colab-wheels/public/simple/\n",
            "Collecting torchinfo\n",
            "  Downloading torchinfo-1.7.1-py3-none-any.whl (22 kB)\n",
            "Installing collected packages: torchinfo\n",
            "Successfully installed torchinfo-1.7.1\n"
          ]
        }
      ],
      "source": [
        "!pip install transformers\n",
        "!pip install torchinfo"
      ]
    },
    {
      "cell_type": "code",
      "execution_count": 54,
      "metadata": {
        "id": "0nDiORbGRcqB"
      },
      "outputs": [],
      "source": [
        "import torch\n",
        "from transformers import BertModel\n",
        "import pandas as pd\n",
        "import torch\n",
        "from torch.utils.data import Dataset\n",
        "from transformers import BertTokenizer\n",
        "from torch.utils.data import TensorDataset, random_split\n",
        "from transformers import BertForSequenceClassification, AdamW, BertConfig\n",
        "import numpy as np\n",
        "from torchinfo import summary\n",
        "import time\n",
        "import datetime\n",
        "from transformers import get_linear_schedule_with_warmup\n",
        "import random\n",
        "import matplotlib.pyplot as plt\n",
        "%matplotlib inline\n",
        "import seaborn as sns\n",
        "from sklearn.metrics import matthews_corrcoef\n",
        "import os\n",
        "from tqdm.notebook import tqdm \n",
        "from sklearn.metrics import confusion_matrix, classification_report\n",
        "from torch.utils.data import DataLoader\n"
      ]
    },
    {
      "cell_type": "markdown",
      "metadata": {
        "id": "xPQoS6xSRcqC"
      },
      "source": [
        "## Pre Trained Model\n"
      ]
    },
    {
      "cell_type": "code",
      "execution_count": 4,
      "metadata": {
        "id": "_Sg-05pZRcqD"
      },
      "outputs": [],
      "source": [
        "# we must use the same tokenizer as the one used to train the model\n",
        "# 日本語のBERTモデルは、ct-tohokuのものが一般的 中でもこのモデルが精度でやすいらしい\n",
        "PRETRAINED_MODEL_NAME = \"cl-tohoku/bert-base-japanese-whole-word-masking\"  \n"
      ]
    },
    {
      "cell_type": "markdown",
      "metadata": {
        "id": "Lk5W_5ODRcqD"
      },
      "source": [
        "## GPU\n"
      ]
    },
    {
      "cell_type": "code",
      "execution_count": 7,
      "metadata": {
        "colab": {
          "base_uri": "https://localhost:8080/"
        },
        "id": "4Lqxd0H7RcqE",
        "outputId": "9e851228-e30c-4d8d-93ba-4ecb8ad8a583"
      },
      "outputs": [
        {
          "name": "stdout",
          "output_type": "stream",
          "text": [
            "There are 1 GPU(s) available.\n",
            "We will use the GPU: Tesla T4\n"
          ]
        }
      ],
      "source": [
        "if torch.cuda.is_available():\n",
        "    device = torch.device(\"cuda\")\n",
        "    print(\"There are %d GPU(s) available.\" % torch.cuda.device_count())\n",
        "    print(\"We will use the GPU:\", torch.cuda.get_device_name(0))\n",
        "else:\n",
        "    print(\"No GPU available, using the CPU instead.\")\n",
        "    device = torch.device(\"cpu\")\n"
      ]
    },
    {
      "cell_type": "markdown",
      "metadata": {
        "id": "-Vx1ELj2RcqE"
      },
      "source": [
        "## Dataset\n"
      ]
    },
    {
      "cell_type": "markdown",
      "metadata": {
        "id": "IxLNAfUqLMAK"
      },
      "source": [
        "### Load\n"
      ]
    },
    {
      "cell_type": "code",
      "execution_count": 8,
      "metadata": {
        "id": "kIXaPYJw1iza"
      },
      "outputs": [],
      "source": [
        "TRAIN_DATASET_PATH = \"/content/drive/MyDrive/MurataLab/newline/train_dataset.csv\"\n"
      ]
    },
    {
      "cell_type": "code",
      "execution_count": 9,
      "metadata": {
        "colab": {
          "base_uri": "https://localhost:8080/",
          "height": 380
        },
        "id": "NxBARWlfRcqF",
        "outputId": "170874ec-7bf6-4681-d496-b426da41254e"
      },
      "outputs": [
        {
          "name": "stdout",
          "output_type": "stream",
          "text": [
            "Dataset Length: 22158\n"
          ]
        },
        {
          "data": {
            "text/html": [
              "\n",
              "  <div id=\"df-23c8122d-a526-4664-bfcc-316c0d766b3b\">\n",
              "    <div class=\"colab-df-container\">\n",
              "      <div>\n",
              "<style scoped>\n",
              "    .dataframe tbody tr th:only-of-type {\n",
              "        vertical-align: middle;\n",
              "    }\n",
              "\n",
              "    .dataframe tbody tr th {\n",
              "        vertical-align: top;\n",
              "    }\n",
              "\n",
              "    .dataframe thead th {\n",
              "        text-align: right;\n",
              "    }\n",
              "</style>\n",
              "<table border=\"1\" class=\"dataframe\">\n",
              "  <thead>\n",
              "    <tr style=\"text-align: right;\">\n",
              "      <th></th>\n",
              "      <th>Unnamed: 0</th>\n",
              "      <th>input</th>\n",
              "      <th>is_line_feed</th>\n",
              "      <th>is_comma</th>\n",
              "      <th>is_period</th>\n",
              "    </tr>\n",
              "  </thead>\n",
              "  <tbody>\n",
              "    <tr>\n",
              "      <th>3532</th>\n",
              "      <td>3532</td>\n",
              "      <td>果たしている[ANS]そういった</td>\n",
              "      <td>1</td>\n",
              "      <td>0</td>\n",
              "      <td>1</td>\n",
              "    </tr>\n",
              "    <tr>\n",
              "      <th>18096</th>\n",
              "      <td>18096</td>\n",
              "      <td>乗っていて[ANS]よく</td>\n",
              "      <td>0</td>\n",
              "      <td>0</td>\n",
              "      <td>0</td>\n",
              "    </tr>\n",
              "    <tr>\n",
              "      <th>9521</th>\n",
              "      <td>9521</td>\n",
              "      <td>今度は[ANS]恐いもの知らずで</td>\n",
              "      <td>0</td>\n",
              "      <td>1</td>\n",
              "      <td>0</td>\n",
              "    </tr>\n",
              "    <tr>\n",
              "      <th>6401</th>\n",
              "      <td>6401</td>\n",
              "      <td>あるはずなんです[ANS]日本は</td>\n",
              "      <td>1</td>\n",
              "      <td>0</td>\n",
              "      <td>1</td>\n",
              "    </tr>\n",
              "    <tr>\n",
              "      <th>14621</th>\n",
              "      <td>14621</td>\n",
              "      <td>ボタンを[ANS]押している</td>\n",
              "      <td>0</td>\n",
              "      <td>0</td>\n",
              "      <td>0</td>\n",
              "    </tr>\n",
              "    <tr>\n",
              "      <th>12558</th>\n",
              "      <td>12558</td>\n",
              "      <td>車検という[ANS]節目が</td>\n",
              "      <td>0</td>\n",
              "      <td>0</td>\n",
              "      <td>0</td>\n",
              "    </tr>\n",
              "    <tr>\n",
              "      <th>1613</th>\n",
              "      <td>1613</td>\n",
              "      <td>発言[ANS]意見が</td>\n",
              "      <td>0</td>\n",
              "      <td>0</td>\n",
              "      <td>0</td>\n",
              "    </tr>\n",
              "    <tr>\n",
              "      <th>15915</th>\n",
              "      <td>15915</td>\n",
              "      <td>最後に[ANS]新郎新婦から</td>\n",
              "      <td>0</td>\n",
              "      <td>0</td>\n",
              "      <td>0</td>\n",
              "    </tr>\n",
              "    <tr>\n",
              "      <th>18317</th>\n",
              "      <td>18317</td>\n",
              "      <td>ぷつんと[ANS]切れましたので</td>\n",
              "      <td>0</td>\n",
              "      <td>0</td>\n",
              "      <td>0</td>\n",
              "    </tr>\n",
              "    <tr>\n",
              "      <th>15825</th>\n",
              "      <td>15825</td>\n",
              "      <td>行いました[ANS]私の</td>\n",
              "      <td>1</td>\n",
              "      <td>0</td>\n",
              "      <td>1</td>\n",
              "    </tr>\n",
              "  </tbody>\n",
              "</table>\n",
              "</div>\n",
              "      <button class=\"colab-df-convert\" onclick=\"convertToInteractive('df-23c8122d-a526-4664-bfcc-316c0d766b3b')\"\n",
              "              title=\"Convert this dataframe to an interactive table.\"\n",
              "              style=\"display:none;\">\n",
              "        \n",
              "  <svg xmlns=\"http://www.w3.org/2000/svg\" height=\"24px\"viewBox=\"0 0 24 24\"\n",
              "       width=\"24px\">\n",
              "    <path d=\"M0 0h24v24H0V0z\" fill=\"none\"/>\n",
              "    <path d=\"M18.56 5.44l.94 2.06.94-2.06 2.06-.94-2.06-.94-.94-2.06-.94 2.06-2.06.94zm-11 1L8.5 8.5l.94-2.06 2.06-.94-2.06-.94L8.5 2.5l-.94 2.06-2.06.94zm10 10l.94 2.06.94-2.06 2.06-.94-2.06-.94-.94-2.06-.94 2.06-2.06.94z\"/><path d=\"M17.41 7.96l-1.37-1.37c-.4-.4-.92-.59-1.43-.59-.52 0-1.04.2-1.43.59L10.3 9.45l-7.72 7.72c-.78.78-.78 2.05 0 2.83L4 21.41c.39.39.9.59 1.41.59.51 0 1.02-.2 1.41-.59l7.78-7.78 2.81-2.81c.8-.78.8-2.07 0-2.86zM5.41 20L4 18.59l7.72-7.72 1.47 1.35L5.41 20z\"/>\n",
              "  </svg>\n",
              "      </button>\n",
              "      \n",
              "  <style>\n",
              "    .colab-df-container {\n",
              "      display:flex;\n",
              "      flex-wrap:wrap;\n",
              "      gap: 12px;\n",
              "    }\n",
              "\n",
              "    .colab-df-convert {\n",
              "      background-color: #E8F0FE;\n",
              "      border: none;\n",
              "      border-radius: 50%;\n",
              "      cursor: pointer;\n",
              "      display: none;\n",
              "      fill: #1967D2;\n",
              "      height: 32px;\n",
              "      padding: 0 0 0 0;\n",
              "      width: 32px;\n",
              "    }\n",
              "\n",
              "    .colab-df-convert:hover {\n",
              "      background-color: #E2EBFA;\n",
              "      box-shadow: 0px 1px 2px rgba(60, 64, 67, 0.3), 0px 1px 3px 1px rgba(60, 64, 67, 0.15);\n",
              "      fill: #174EA6;\n",
              "    }\n",
              "\n",
              "    [theme=dark] .colab-df-convert {\n",
              "      background-color: #3B4455;\n",
              "      fill: #D2E3FC;\n",
              "    }\n",
              "\n",
              "    [theme=dark] .colab-df-convert:hover {\n",
              "      background-color: #434B5C;\n",
              "      box-shadow: 0px 1px 3px 1px rgba(0, 0, 0, 0.15);\n",
              "      filter: drop-shadow(0px 1px 2px rgba(0, 0, 0, 0.3));\n",
              "      fill: #FFFFFF;\n",
              "    }\n",
              "  </style>\n",
              "\n",
              "      <script>\n",
              "        const buttonEl =\n",
              "          document.querySelector('#df-23c8122d-a526-4664-bfcc-316c0d766b3b button.colab-df-convert');\n",
              "        buttonEl.style.display =\n",
              "          google.colab.kernel.accessAllowed ? 'block' : 'none';\n",
              "\n",
              "        async function convertToInteractive(key) {\n",
              "          const element = document.querySelector('#df-23c8122d-a526-4664-bfcc-316c0d766b3b');\n",
              "          const dataTable =\n",
              "            await google.colab.kernel.invokeFunction('convertToInteractive',\n",
              "                                                     [key], {});\n",
              "          if (!dataTable) return;\n",
              "\n",
              "          const docLinkHtml = 'Like what you see? Visit the ' +\n",
              "            '<a target=\"_blank\" href=https://colab.research.google.com/notebooks/data_table.ipynb>data table notebook</a>'\n",
              "            + ' to learn more about interactive tables.';\n",
              "          element.innerHTML = '';\n",
              "          dataTable['output_type'] = 'display_data';\n",
              "          await google.colab.output.renderOutput(dataTable, element);\n",
              "          const docLink = document.createElement('div');\n",
              "          docLink.innerHTML = docLinkHtml;\n",
              "          element.appendChild(docLink);\n",
              "        }\n",
              "      </script>\n",
              "    </div>\n",
              "  </div>\n",
              "  "
            ],
            "text/plain": [
              "       Unnamed: 0             input  is_line_feed  is_comma  is_period\n",
              "3532         3532  果たしている[ANS]そういった             1         0          1\n",
              "18096       18096      乗っていて[ANS]よく             0         0          0\n",
              "9521         9521  今度は[ANS]恐いもの知らずで             0         1          0\n",
              "6401         6401  あるはずなんです[ANS]日本は             1         0          1\n",
              "14621       14621    ボタンを[ANS]押している             0         0          0\n",
              "12558       12558     車検という[ANS]節目が             0         0          0\n",
              "1613         1613        発言[ANS]意見が             0         0          0\n",
              "15915       15915    最後に[ANS]新郎新婦から             0         0          0\n",
              "18317       18317  ぷつんと[ANS]切れましたので             0         0          0\n",
              "15825       15825      行いました[ANS]私の             1         0          1"
            ]
          },
          "execution_count": 9,
          "metadata": {},
          "output_type": "execute_result"
        }
      ],
      "source": [
        "df = pd.read_csv(TRAIN_DATASET_PATH)\n",
        "print(f\"Dataset Length: {len(df)}\")\n",
        "df.sample(10)\n"
      ]
    },
    {
      "cell_type": "code",
      "execution_count": 10,
      "metadata": {
        "id": "rDkA2_W8RcqG"
      },
      "outputs": [],
      "source": [
        "inputs = df.input.values\n",
        "labels = df.is_line_feed.values.astype(np.int64)  # FIXME: use lf and comma\n"
      ]
    },
    {
      "cell_type": "markdown",
      "metadata": {
        "id": "_2bNdkX4LOoL"
      },
      "source": [
        "### Tokenizer\n"
      ]
    },
    {
      "cell_type": "code",
      "execution_count": 11,
      "metadata": {
        "colab": {
          "base_uri": "https://localhost:8080/",
          "height": 234,
          "referenced_widgets": [
            "026628bbb7c940ac944d49fcbea53ad9",
            "421e520e42ef4cc2832d0be7417221b6",
            "f767afa7cc9a4ba0974e303eca3ddb0f",
            "0d38e3ca4b6d4167b0f735e3b232e298",
            "6ee1714e4d9d48ed9930b35eb12d0c77",
            "571c384f817b4effab6bf0b4d077ebc8",
            "5e6519fd5d954a93aa98b358043d22af",
            "b2d8bf5e0d534b9c91c0727f933b8aa5",
            "214ea022891c4ffba55dd2d78f561490",
            "d8a9ddf72099443083fbcf72c41dac60",
            "0cbcec2197b04505a0cd95d51ed6ea36",
            "80d79e664944425db3ffc44e40656f4d",
            "a0b96c778bd14b28a927b6e3d86fc00a",
            "3047b053748a4c3496359dd04ef178f3",
            "cef6714847344f578f6ce41d6bd541ff",
            "fb66338803cb4cb887ea087fde86adec",
            "3204962fcc7448a58d25579e57695dbf",
            "42a868bd3c7043b2b325a8ae9d622f7e",
            "cd8c6a592b25447889b70dec025f977e",
            "e3ee9efc734a4b88ade318627d6d19f1",
            "63fc2715d72446d9b7115feaad205041",
            "a64c9ea653844759aaf781efbfb14285",
            "b5816585d9194d37982935691bcef3a7",
            "171c8f2dc8fd47fca3ed8935abbc8775",
            "7325c9c85b7c4d49b8ace08951c3377a",
            "b6db3707c95f41beb92ae0ba2a0036fb",
            "7e40dc1420434a4f9969a72443a99694",
            "bc3dd183de9247aaab7efece14a47df2",
            "9e10034ba74347ecbb87b959129fc4e3",
            "c4b1d1fe631b4afe99048c5c8755212c",
            "4a7ad6861426459ea51279e85e47e9ed",
            "34ef02d0e8824eb4803372814f5d30a0",
            "89c439610fca4288b60f6378a60e066c"
          ]
        },
        "id": "e81a9D--RcqG",
        "outputId": "568d0aec-9064-4d3e-c1e5-4baa4c2f8ee2"
      },
      "outputs": [
        {
          "data": {
            "application/vnd.jupyter.widget-view+json": {
              "model_id": "026628bbb7c940ac944d49fcbea53ad9",
              "version_major": 2,
              "version_minor": 0
            },
            "text/plain": [
              "Downloading:   0%|          | 0.00/258k [00:00<?, ?B/s]"
            ]
          },
          "metadata": {},
          "output_type": "display_data"
        },
        {
          "data": {
            "application/vnd.jupyter.widget-view+json": {
              "model_id": "80d79e664944425db3ffc44e40656f4d",
              "version_major": 2,
              "version_minor": 0
            },
            "text/plain": [
              "Downloading:   0%|          | 0.00/110 [00:00<?, ?B/s]"
            ]
          },
          "metadata": {},
          "output_type": "display_data"
        },
        {
          "data": {
            "application/vnd.jupyter.widget-view+json": {
              "model_id": "b5816585d9194d37982935691bcef3a7",
              "version_major": 2,
              "version_minor": 0
            },
            "text/plain": [
              "Downloading:   0%|          | 0.00/479 [00:00<?, ?B/s]"
            ]
          },
          "metadata": {},
          "output_type": "display_data"
        },
        {
          "name": "stderr",
          "output_type": "stream",
          "text": [
            "The tokenizer class you load from this checkpoint is not the same type as the class this function is called from. It may result in unexpected tokenization. \n",
            "The tokenizer class you load from this checkpoint is 'BertJapaneseTokenizer'. \n",
            "The class this function is called from is 'BertTokenizer'.\n"
          ]
        },
        {
          "data": {
            "text/plain": [
              "('/content/drive/MyDrive/MurataLab/newline/models/20221228_102048/tokenizer_config.json',\n",
              " '/content/drive/MyDrive/MurataLab/newline/models/20221228_102048/special_tokens_map.json',\n",
              " '/content/drive/MyDrive/MurataLab/newline/models/20221228_102048/vocab.txt',\n",
              " '/content/drive/MyDrive/MurataLab/newline/models/20221228_102048/added_tokens.json')"
            ]
          },
          "execution_count": 11,
          "metadata": {},
          "output_type": "execute_result"
        }
      ],
      "source": [
        "tokenizer = BertTokenizer.from_pretrained(PRETRAINED_MODEL_NAME)\n",
        "tokenizer.add_tokens([\"[ANS]\"])\n"
      ]
    },
    {
      "cell_type": "code",
      "execution_count": 12,
      "metadata": {
        "colab": {
          "base_uri": "https://localhost:8080/"
        },
        "id": "esNiMgEWRcqH",
        "outputId": "26f35dcf-a8a4-457d-ece7-0831f2beeb16"
      },
      "outputs": [
        {
          "name": "stdout",
          "output_type": "stream",
          "text": [
            "Original:  おはようございます[ANS]ただ今\n",
            "Tokenized:  ['おはよう', '##ご', '##ざい', '##ます', '[ANS]', 'ただ', '今']\n",
            "Token IDs:  [21119, 29066, 18526, 11665, 32000, 909, 744]\n"
          ]
        }
      ],
      "source": [
        "print(\"Original: \", inputs[0])\n",
        "print(\"Tokenized: \", tokenizer.tokenize(inputs[0]))\n",
        "print(\"Token IDs: \", tokenizer.convert_tokens_to_ids(tokenizer.tokenize(inputs[0])))\n"
      ]
    },
    {
      "cell_type": "markdown",
      "metadata": {
        "id": "b6LY19XcLSUJ"
      },
      "source": [
        "### Max Length\n"
      ]
    },
    {
      "cell_type": "code",
      "execution_count": 13,
      "metadata": {
        "colab": {
          "base_uri": "https://localhost:8080/"
        },
        "id": "PLmDXawWRcqH",
        "outputId": "a1e4bbb0-215e-4267-b094-8f05801f446b"
      },
      "outputs": [
        {
          "name": "stdout",
          "output_type": "stream",
          "text": [
            "Max sentence length:  26\n"
          ]
        }
      ],
      "source": [
        "dataset_max_length = 0\n",
        "for sentence in inputs:\n",
        "    input_ids = tokenizer.encode(sentence, add_special_tokens=True)\n",
        "    dataset_max_length = max(dataset_max_length, len(input_ids))\n",
        "\n",
        "print(\"Max sentence length: \", dataset_max_length)\n"
      ]
    },
    {
      "cell_type": "code",
      "execution_count": 14,
      "metadata": {
        "id": "ZJtGnHb3RcqI"
      },
      "outputs": [],
      "source": [
        "MAX_LENGTH = 32  # at least dataset_max_length + 2 is better\n"
      ]
    },
    {
      "cell_type": "markdown",
      "metadata": {
        "id": "502Srp4KLVGe"
      },
      "source": [
        "### Tokenize\n"
      ]
    },
    {
      "cell_type": "code",
      "execution_count": null,
      "metadata": {},
      "outputs": [],
      "source": [
        "def preprocess(inputs, labels):\n",
        "    input_ids = []\n",
        "    attention_masks = []\n",
        "\n",
        "    for input in inputs:\n",
        "        # `encode_plus` will:\n",
        "        #   (1) Tokenize the sentence.\n",
        "        #   (2) Prepend the `[CLS]` token to the start.\n",
        "        #   (3) Append the `[SEP]` token to the end.\n",
        "        #   (4) Map tokens to their IDs.\n",
        "        #   (5) Pad or truncate the sentence to `max_length`\n",
        "        #   (6) Create attention masks for [PAD] tokens.\n",
        "        encoded_dict = tokenizer.encode_plus(\n",
        "            input,  # Sentence to encode.\n",
        "            add_special_tokens=True,  # Add '[CLS]' and '[SEP]'\n",
        "            max_length=MAX_LENGTH,  # Pad & truncate all sentences.\n",
        "            pad_to_max_length=True,\n",
        "            return_attention_mask=True,  # Construct attn. masks.\n",
        "            return_tensors=\"pt\",  # Return pytorch tensors.\n",
        "        )\n",
        "\n",
        "        input_ids.append(encoded_dict[\"input_ids\"])\n",
        "        # And its attention mask (simply differentiates padding from non-padding).\n",
        "        attention_masks.append(encoded_dict[\"attention_mask\"])\n",
        "\n",
        "    input_ids = torch.cat(input_ids, dim=0)\n",
        "    attention_masks = torch.cat(attention_masks, dim=0)\n",
        "\n",
        "    labels = torch.tensor(labels, dtype=torch.int64)\n",
        "    \n",
        "    return input_ids, attention_masks, labels"
      ]
    },
    {
      "cell_type": "code",
      "execution_count": 15,
      "metadata": {
        "colab": {
          "base_uri": "https://localhost:8080/"
        },
        "id": "q037-luYRcqI",
        "outputId": "b1570b93-7ecf-488c-fd18-bf4feff367f1"
      },
      "outputs": [
        {
          "name": "stderr",
          "output_type": "stream",
          "text": [
            "Truncation was not explicitly activated but `max_length` is provided a specific value, please use `truncation=True` to explicitly truncate examples to max length. Defaulting to 'longest_first' truncation strategy. If you encode pairs of sequences (GLUE-style) with the tokenizer you can select this strategy more precisely by providing a specific strategy to `truncation`.\n",
            "/usr/local/lib/python3.8/dist-packages/transformers/tokenization_utils_base.py:2336: FutureWarning: The `pad_to_max_length` argument is deprecated and will be removed in a future version, use `padding=True` or `padding='longest'` to pad to the longest sequence in the batch, or use `padding='max_length'` to pad to a max length. In this case, you can give a specific length with `max_length` (e.g. `max_length=45`) or leave max_length to None to pad to the maximal input size of the model (e.g. 512 for Bert).\n",
            "  warnings.warn(\n"
          ]
        },
        {
          "name": "stdout",
          "output_type": "stream",
          "text": [
            "Original:  おはようございます[ANS]ただ今\n",
            "Token IDs: tensor([    2, 21119, 29066, 18526, 11665, 32000,   909,   744,     3,     0,\n",
            "            0,     0,     0,     0,     0,     0,     0,     0,     0,     0,\n",
            "            0,     0,     0,     0,     0,     0,     0,     0,     0,     0,\n",
            "            0,     0])\n"
          ]
        }
      ],
      "source": [
        "# Tokenize all of the sentences and map the tokens to their word IDs.\n",
        "input_ids, attention_masks, labels = preprocess(inputs, labels) \n",
        "print(\"Original: \", inputs[0])\n",
        "print(\"Token IDs:\", input_ids[0])\n"
      ]
    },
    {
      "cell_type": "markdown",
      "metadata": {
        "id": "Gfyz6ibPLo_f"
      },
      "source": [
        "### Split Dataset\n"
      ]
    },
    {
      "cell_type": "code",
      "execution_count": 16,
      "metadata": {
        "id": "RWDd0k1VRcqJ"
      },
      "outputs": [],
      "source": [
        "TRAIN_DATASET_RATIO = 0.9\n",
        "\n",
        "# For fine-tuning BERT on a specific task, the authors recommend a batch size of 16 or 32.\n",
        "BATCH_SIZE = 16\n"
      ]
    },
    {
      "cell_type": "code",
      "execution_count": 17,
      "metadata": {
        "colab": {
          "base_uri": "https://localhost:8080/"
        },
        "id": "uAw76udKRcqJ",
        "outputId": "edf495c5-ae02-46bd-fc2d-4489158e4486"
      },
      "outputs": [
        {
          "name": "stdout",
          "output_type": "stream",
          "text": [
            "19,942 training samples\n",
            "2,216 validation samples\n"
          ]
        }
      ],
      "source": [
        "dataset = TensorDataset(input_ids, attention_masks, labels)\n",
        "\n",
        "train_size = int(TRAIN_DATASET_RATIO * len(dataset))\n",
        "val_size = len(dataset) - train_size\n",
        "\n",
        "train_dataset, val_dataset = random_split(dataset, [train_size, val_size])\n",
        "\n",
        "print(\"{:>5,} training samples\".format(train_size))\n",
        "print(\"{:>5,} validation samples\".format(val_size))\n"
      ]
    },
    {
      "cell_type": "code",
      "execution_count": 18,
      "metadata": {
        "id": "B3YhRAzNRcqJ"
      },
      "outputs": [],
      "source": [
        "train_dataloader = DataLoader(train_dataset, batch_size=BATCH_SIZE, shuffle=True)\n",
        "validation_dataloader = DataLoader(val_dataset, batch_size=BATCH_SIZE, shuffle=False)\n"
      ]
    },
    {
      "cell_type": "markdown",
      "metadata": {
        "id": "bUM1h8iVRcqK"
      },
      "source": [
        "## Train\n"
      ]
    },
    {
      "cell_type": "markdown",
      "metadata": {
        "id": "vfKBNtAkMap5"
      },
      "source": [
        "### Model\n"
      ]
    },
    {
      "cell_type": "code",
      "execution_count": 19,
      "metadata": {
        "colab": {
          "base_uri": "https://localhost:8080/",
          "height": 156,
          "referenced_widgets": [
            "9270ccf245104eefb5952fb23159bbc2",
            "9f027b8c4ef24cb5b59e6c8681187029",
            "fe6006348ab648b695f0becc8381737b",
            "54b69d594f3242f69b7207c917bc172a",
            "607f93f4ccae42b5a66fefa8a014a984",
            "dbe0e10f49694f52b435c8b259f48e90",
            "cd013d5be4b64cf0ac1c40e49a3690d2",
            "bb7d39619a4545b1aa0efbe5e2c005dd",
            "9949cf716f00496e8e4a84b7c7b7b76d",
            "3f6e83ac776c4252bf5724314df41e27",
            "bba84d5cc84542b4addf03278337ffa1"
          ]
        },
        "id": "K3NikRvCRcqK",
        "outputId": "c27b6bb3-1661-4332-fce8-fd9d6ac72ba4"
      },
      "outputs": [
        {
          "data": {
            "application/vnd.jupyter.widget-view+json": {
              "model_id": "9270ccf245104eefb5952fb23159bbc2",
              "version_major": 2,
              "version_minor": 0
            },
            "text/plain": [
              "Downloading:   0%|          | 0.00/445M [00:00<?, ?B/s]"
            ]
          },
          "metadata": {},
          "output_type": "display_data"
        },
        {
          "name": "stderr",
          "output_type": "stream",
          "text": [
            "Some weights of the model checkpoint at cl-tohoku/bert-base-japanese-whole-word-masking were not used when initializing BertForSequenceClassification: ['cls.predictions.transform.LayerNorm.bias', 'cls.predictions.transform.LayerNorm.weight', 'cls.seq_relationship.bias', 'cls.seq_relationship.weight', 'cls.predictions.bias', 'cls.predictions.decoder.weight', 'cls.predictions.transform.dense.weight', 'cls.predictions.transform.dense.bias']\n",
            "- This IS expected if you are initializing BertForSequenceClassification from the checkpoint of a model trained on another task or with another architecture (e.g. initializing a BertForSequenceClassification model from a BertForPreTraining model).\n",
            "- This IS NOT expected if you are initializing BertForSequenceClassification from the checkpoint of a model that you expect to be exactly identical (initializing a BertForSequenceClassification model from a BertForSequenceClassification model).\n",
            "Some weights of BertForSequenceClassification were not initialized from the model checkpoint at cl-tohoku/bert-base-japanese-whole-word-masking and are newly initialized: ['classifier.weight', 'classifier.bias']\n",
            "You should probably TRAIN this model on a down-stream task to be able to use it for predictions and inference.\n"
          ]
        }
      ],
      "source": [
        "model = BertForSequenceClassification.from_pretrained(\n",
        "    PRETRAINED_MODEL_NAME,\n",
        "    num_labels=2,  # The number of output labels--2 for binary classification.\n",
        "    output_attentions=False,  # Whether the model returns attentions weights.\n",
        "    output_hidden_states=False,  # Whether the model returns all hidden-states.\n",
        ")\n",
        "model.resize_token_embeddings(len(tokenizer))\n",
        "\n",
        "# Tell pytorch to run this model on the GPU.\n",
        "if torch.cuda.is_available():\n",
        "    model.cuda()\n"
      ]
    },
    {
      "cell_type": "code",
      "execution_count": 20,
      "metadata": {
        "colab": {
          "base_uri": "https://localhost:8080/"
        },
        "id": "DEmHYFCizbNe",
        "outputId": "c662afc1-901d-4f13-c26e-273bdcd8a66e"
      },
      "outputs": [
        {
          "data": {
            "text/plain": [
              "================================================================================\n",
              "Layer (type:depth-idx)                                  Param #\n",
              "================================================================================\n",
              "BertForSequenceClassification                           --\n",
              "├─BertModel: 1-1                                        --\n",
              "│    └─BertEmbeddings: 2-1                              --\n",
              "│    │    └─Embedding: 3-1                              24,576,768\n",
              "│    │    └─Embedding: 3-2                              393,216\n",
              "│    │    └─Embedding: 3-3                              1,536\n",
              "│    │    └─LayerNorm: 3-4                              1,536\n",
              "│    │    └─Dropout: 3-5                                --\n",
              "│    └─BertEncoder: 2-2                                 --\n",
              "│    │    └─ModuleList: 3-6                             --\n",
              "│    │    │    └─BertLayer: 4-1                         7,087,872\n",
              "│    │    │    └─BertLayer: 4-2                         7,087,872\n",
              "│    │    │    └─BertLayer: 4-3                         7,087,872\n",
              "│    │    │    └─BertLayer: 4-4                         7,087,872\n",
              "│    │    │    └─BertLayer: 4-5                         7,087,872\n",
              "│    │    │    └─BertLayer: 4-6                         7,087,872\n",
              "│    │    │    └─BertLayer: 4-7                         7,087,872\n",
              "│    │    │    └─BertLayer: 4-8                         7,087,872\n",
              "│    │    │    └─BertLayer: 4-9                         7,087,872\n",
              "│    │    │    └─BertLayer: 4-10                        7,087,872\n",
              "│    │    │    └─BertLayer: 4-11                        7,087,872\n",
              "│    │    │    └─BertLayer: 4-12                        7,087,872\n",
              "│    └─BertPooler: 2-3                                  --\n",
              "│    │    └─Linear: 3-7                                 590,592\n",
              "│    │    └─Tanh: 3-8                                   --\n",
              "├─Dropout: 1-2                                          --\n",
              "├─Linear: 1-3                                           1,538\n",
              "================================================================================\n",
              "Total params: 110,619,650\n",
              "Trainable params: 110,619,650\n",
              "Non-trainable params: 0\n",
              "================================================================================"
            ]
          },
          "execution_count": 20,
          "metadata": {},
          "output_type": "execute_result"
        }
      ],
      "source": [
        "summary(model, depth=4)\n"
      ]
    },
    {
      "cell_type": "markdown",
      "metadata": {
        "id": "MN29EVb3MYev"
      },
      "source": [
        "### Optimizer\n"
      ]
    },
    {
      "cell_type": "code",
      "execution_count": 21,
      "metadata": {
        "id": "F_Vq5d220_QP"
      },
      "outputs": [],
      "source": [
        "LEARNING_RATE = 2e-5  # default is 5e-5\n",
        "EPSILON = 1e-8\n"
      ]
    },
    {
      "cell_type": "code",
      "execution_count": 22,
      "metadata": {
        "colab": {
          "base_uri": "https://localhost:8080/"
        },
        "id": "qxT-5iOiRcqL",
        "outputId": "4d68976c-effd-4d5f-d6d7-32a1304039c6"
      },
      "outputs": [
        {
          "name": "stderr",
          "output_type": "stream",
          "text": [
            "/usr/local/lib/python3.8/dist-packages/transformers/optimization.py:306: FutureWarning: This implementation of AdamW is deprecated and will be removed in a future version. Use the PyTorch implementation torch.optim.AdamW instead, or set `no_deprecation_warning=True` to disable this warning\n",
            "  warnings.warn(\n"
          ]
        }
      ],
      "source": [
        "# Note: AdamW is a class from the huggingface library (as opposed to pytorch)\n",
        "# I believe the 'W' stands for 'Weight Decay fix\"\n",
        "optimizer = AdamW(\n",
        "    model.parameters(),\n",
        "    lr=LEARNING_RATE,\n",
        "    eps=EPSILON,\n",
        ")\n"
      ]
    },
    {
      "cell_type": "markdown",
      "metadata": {
        "id": "1nWrxx8Hkv2-"
      },
      "source": [
        "### Epoch\n"
      ]
    },
    {
      "cell_type": "code",
      "execution_count": 62,
      "metadata": {
        "id": "fdMjub5a00pu"
      },
      "outputs": [],
      "source": [
        "# The BERT authors recommend between 2 and 4.\n",
        "EPOCHS = 4\n"
      ]
    },
    {
      "cell_type": "markdown",
      "metadata": {
        "id": "LJwy8iqO0639"
      },
      "source": [
        "### Scheduler\n"
      ]
    },
    {
      "cell_type": "code",
      "execution_count": 63,
      "metadata": {
        "id": "QACzOb5URcqL"
      },
      "outputs": [],
      "source": [
        "# Total number of training steps is [number of batches] x [number of epochs].\n",
        "total_steps = len(train_dataloader) * EPOCHS\n",
        "\n",
        "# Create the learning rate scheduler.\n",
        "scheduler = get_linear_schedule_with_warmup(\n",
        "    optimizer,\n",
        "    num_warmup_steps=0,  # Default value in run_glue.py (https://github.com/huggingface/transformers/blob/5bfcd0485ece086ebcbed2d008813037968a9e58/examples/run_glue.py#L128)\n",
        "    num_training_steps=total_steps,\n",
        ")\n"
      ]
    },
    {
      "cell_type": "markdown",
      "metadata": {
        "id": "aZQ1U-Qmkv2-"
      },
      "source": [
        "### Function\n"
      ]
    },
    {
      "cell_type": "code",
      "execution_count": 64,
      "metadata": {
        "id": "7WhlvTv9RcqL"
      },
      "outputs": [],
      "source": [
        "# Function to calculate the accuracy of our predictions vs labels\n",
        "def flat_accuracy(preds, labels):\n",
        "    pred_flat = np.argmax(preds, axis=1).flatten()\n",
        "    labels_flat = labels.flatten()\n",
        "    return np.sum(pred_flat == labels_flat) / len(labels_flat)\n"
      ]
    },
    {
      "cell_type": "code",
      "execution_count": 65,
      "metadata": {
        "id": "-ZFgiaEFRcqM"
      },
      "outputs": [],
      "source": [
        "def format_time(elapsed):\n",
        "    \"\"\"\n",
        "    Takes a time in seconds and returns a string hh:mm:ss\n",
        "    \"\"\"\n",
        "    return str(datetime.timedelta(seconds=int(round((elapsed)))))\n"
      ]
    },
    {
      "cell_type": "code",
      "execution_count": 66,
      "metadata": {
        "id": "CYBhPii4TcJh"
      },
      "outputs": [],
      "source": [
        "def save_model(model, dir, filename):\n",
        "    print(\"Saving model to %s\" % os.path.join(dir, filename))\n",
        "    torch.save(model.to(\"cpu\").state_dict(), os.path.join(dir, filename))\n",
        "    model.to(\"cuda\")\n",
        "    return os.path.join(dir, filename)\n"
      ]
    },
    {
      "cell_type": "code",
      "execution_count": 67,
      "metadata": {
        "id": "RVVj-oe70ccO"
      },
      "outputs": [],
      "source": [
        "def fix_seed(seed):\n",
        "    random.seed(seed)\n",
        "    np.random.seed(seed)\n",
        "    torch.manual_seed(seed)\n",
        "    torch.cuda.manual_seed_all(seed)\n",
        "    torch.backends.cudnn.deterministic = True\n",
        "\n",
        "    # ネットワークの形が固定のとき、GPU側でネットワークの計算を最適化し高速にしてくれる\n",
        "    # ただし、再現性がなくなるため、Falseとする\n",
        "    torch.backends.cudnn.benchmark = False\n"
      ]
    },
    {
      "cell_type": "code",
      "execution_count": null,
      "metadata": {
        "id": "8iGzuTThcLSv"
      },
      "outputs": [],
      "source": [
        "def make_output_dir():\n",
        "    now = datetime.datetime.now() + datetime.timedelta(hours=9)\n",
        "    now = now.strftime(\"%Y%m%d_%H%M%S\")\n",
        "    dir_name = f\"/content/drive/MyDrive/MurataLab/newline/models/{now}\"\n",
        "    os.makedirs(dir_name)\n",
        "    return dir_name\n"
      ]
    },
    {
      "cell_type": "markdown",
      "metadata": {
        "id": "aqFPWTchkv2_"
      },
      "source": [
        "### Run\n"
      ]
    },
    {
      "cell_type": "code",
      "execution_count": 68,
      "metadata": {
        "id": "G8OJA0a90jcC"
      },
      "outputs": [],
      "source": [
        "SEED = 40\n"
      ]
    },
    {
      "cell_type": "code",
      "execution_count": 69,
      "metadata": {
        "colab": {
          "base_uri": "https://localhost:8080/"
        },
        "id": "syQo9Xr2RcqM",
        "outputId": "090d1a3b-b412-4e89-f36c-9910309a376c"
      },
      "outputs": [
        {
          "name": "stdout",
          "output_type": "stream",
          "text": [
            "\n",
            "======== Epoch 1 / 4 ========\n",
            "Training...\n",
            "  Batch    40  of  1,247.   Loss:  0.0648.   Elapsed: 0:00:04.\n",
            "  Batch    80  of  1,247.   Loss:  0.4320.   Elapsed: 0:00:09.\n",
            "  Batch   120  of  1,247.   Loss:  0.0771.   Elapsed: 0:00:14.\n",
            "  Batch   160  of  1,247.   Loss:  0.1644.   Elapsed: 0:00:18.\n",
            "  Batch   200  of  1,247.   Loss:  0.8264.   Elapsed: 0:00:23.\n",
            "  Batch   240  of  1,247.   Loss:  0.5200.   Elapsed: 0:00:27.\n",
            "  Batch   280  of  1,247.   Loss:  0.1975.   Elapsed: 0:00:31.\n",
            "  Batch   320  of  1,247.   Loss:  0.2407.   Elapsed: 0:00:36.\n",
            "  Batch   360  of  1,247.   Loss:  0.0075.   Elapsed: 0:00:40.\n",
            "  Batch   400  of  1,247.   Loss:  0.0099.   Elapsed: 0:00:45.\n",
            "  Batch   440  of  1,247.   Loss:  0.2268.   Elapsed: 0:00:50.\n",
            "  Batch   480  of  1,247.   Loss:  0.1569.   Elapsed: 0:00:54.\n",
            "  Batch   520  of  1,247.   Loss:  0.1594.   Elapsed: 0:00:59.\n",
            "  Batch   560  of  1,247.   Loss:  0.0249.   Elapsed: 0:01:03.\n",
            "  Batch   600  of  1,247.   Loss:  0.3492.   Elapsed: 0:01:08.\n",
            "  Batch   640  of  1,247.   Loss:  0.0110.   Elapsed: 0:01:13.\n",
            "  Batch   680  of  1,247.   Loss:  0.0908.   Elapsed: 0:01:17.\n",
            "  Batch   720  of  1,247.   Loss:  0.0719.   Elapsed: 0:01:22.\n",
            "  Batch   760  of  1,247.   Loss:  0.0329.   Elapsed: 0:01:27.\n",
            "  Batch   800  of  1,247.   Loss:  0.3323.   Elapsed: 0:01:31.\n",
            "  Batch   840  of  1,247.   Loss:  0.4722.   Elapsed: 0:01:36.\n",
            "  Batch   880  of  1,247.   Loss:  0.2888.   Elapsed: 0:01:40.\n",
            "  Batch   920  of  1,247.   Loss:  0.4185.   Elapsed: 0:01:45.\n",
            "  Batch   960  of  1,247.   Loss:  0.0845.   Elapsed: 0:01:50.\n",
            "  Batch 1,000  of  1,247.   Loss:  0.4974.   Elapsed: 0:01:54.\n",
            "  Batch 1,040  of  1,247.   Loss:  0.5409.   Elapsed: 0:01:59.\n",
            "  Batch 1,080  of  1,247.   Loss:  0.3133.   Elapsed: 0:02:03.\n",
            "  Batch 1,120  of  1,247.   Loss:  0.3519.   Elapsed: 0:02:08.\n",
            "  Batch 1,160  of  1,247.   Loss:  0.4875.   Elapsed: 0:02:13.\n",
            "  Batch 1,200  of  1,247.   Loss:  0.1857.   Elapsed: 0:02:17.\n",
            "  Batch 1,240  of  1,247.   Loss:  0.1625.   Elapsed: 0:02:22.\n",
            "\n",
            "  Average training loss: 0.25\n",
            "  Training epcoh took: 0:02:23\n",
            "\n",
            "Running Validation...\n",
            "  Accuracy: 0.84\n",
            "  Validation Loss: 0.43\n",
            "  Validation took: 0:00:04\n",
            "Saving model to /content/drive/MyDrive/MurataLab/newline/models/20221228_102048/model_1_valacc_0-8408273381294964_valloss_0-42823523333925995.pth\n",
            "\n",
            "======== Epoch 2 / 4 ========\n",
            "Training...\n",
            "  Batch    40  of  1,247.   Loss:  0.4127.   Elapsed: 0:00:05.\n",
            "  Batch    80  of  1,247.   Loss:  0.4810.   Elapsed: 0:00:09.\n",
            "  Batch   120  of  1,247.   Loss:  0.4189.   Elapsed: 0:00:14.\n",
            "  Batch   160  of  1,247.   Loss:  0.0920.   Elapsed: 0:00:19.\n",
            "  Batch   200  of  1,247.   Loss:  0.4673.   Elapsed: 0:00:23.\n",
            "  Batch   240  of  1,247.   Loss:  0.2754.   Elapsed: 0:00:28.\n",
            "  Batch   280  of  1,247.   Loss:  0.1673.   Elapsed: 0:00:33.\n",
            "  Batch   320  of  1,247.   Loss:  0.1116.   Elapsed: 0:00:37.\n",
            "  Batch   360  of  1,247.   Loss:  0.1206.   Elapsed: 0:00:42.\n",
            "  Batch   400  of  1,247.   Loss:  0.1473.   Elapsed: 0:00:47.\n",
            "  Batch   440  of  1,247.   Loss:  0.7430.   Elapsed: 0:00:51.\n",
            "  Batch   480  of  1,247.   Loss:  0.1152.   Elapsed: 0:00:56.\n",
            "  Batch   520  of  1,247.   Loss:  0.4796.   Elapsed: 0:01:01.\n",
            "  Batch   560  of  1,247.   Loss:  0.3000.   Elapsed: 0:01:06.\n",
            "  Batch   600  of  1,247.   Loss:  0.2137.   Elapsed: 0:01:10.\n",
            "  Batch   640  of  1,247.   Loss:  0.9082.   Elapsed: 0:01:15.\n",
            "  Batch   680  of  1,247.   Loss:  0.1368.   Elapsed: 0:01:20.\n",
            "  Batch   720  of  1,247.   Loss:  0.1392.   Elapsed: 0:01:25.\n",
            "  Batch   760  of  1,247.   Loss:  0.1746.   Elapsed: 0:01:30.\n",
            "  Batch   800  of  1,247.   Loss:  0.1726.   Elapsed: 0:01:35.\n",
            "  Batch   840  of  1,247.   Loss:  0.2004.   Elapsed: 0:01:41.\n",
            "  Batch   880  of  1,247.   Loss:  0.2121.   Elapsed: 0:01:46.\n",
            "  Batch   920  of  1,247.   Loss:  0.3066.   Elapsed: 0:01:51.\n",
            "  Batch   960  of  1,247.   Loss:  0.3412.   Elapsed: 0:01:57.\n",
            "  Batch 1,000  of  1,247.   Loss:  0.2219.   Elapsed: 0:02:02.\n",
            "  Batch 1,040  of  1,247.   Loss:  0.1669.   Elapsed: 0:02:07.\n",
            "  Batch 1,080  of  1,247.   Loss:  0.4752.   Elapsed: 0:02:11.\n",
            "  Batch 1,120  of  1,247.   Loss:  0.2232.   Elapsed: 0:02:16.\n",
            "  Batch 1,160  of  1,247.   Loss:  0.1881.   Elapsed: 0:02:21.\n",
            "  Batch 1,200  of  1,247.   Loss:  0.1656.   Elapsed: 0:02:26.\n",
            "  Batch 1,240  of  1,247.   Loss:  0.6055.   Elapsed: 0:02:30.\n",
            "\n",
            "  Average training loss: 0.30\n",
            "  Training epcoh took: 0:02:31\n",
            "\n",
            "Running Validation...\n",
            "  Accuracy: 0.84\n",
            "  Validation Loss: 0.41\n",
            "  Validation took: 0:00:04\n",
            "Saving model to /content/drive/MyDrive/MurataLab/newline/models/20221228_102048/model_2_valacc_0-8421762589928058_valloss_0-4108142100622971.pth\n",
            "\n",
            "======== Epoch 3 / 4 ========\n",
            "Training...\n",
            "  Batch    40  of  1,247.   Loss:  0.2548.   Elapsed: 0:00:05.\n",
            "  Batch    80  of  1,247.   Loss:  0.0844.   Elapsed: 0:00:09.\n",
            "  Batch   120  of  1,247.   Loss:  0.2130.   Elapsed: 0:00:14.\n",
            "  Batch   160  of  1,247.   Loss:  0.2160.   Elapsed: 0:00:19.\n",
            "  Batch   200  of  1,247.   Loss:  0.2345.   Elapsed: 0:00:24.\n",
            "  Batch   240  of  1,247.   Loss:  0.5149.   Elapsed: 0:00:28.\n",
            "  Batch   280  of  1,247.   Loss:  0.5836.   Elapsed: 0:00:33.\n",
            "  Batch   320  of  1,247.   Loss:  0.3882.   Elapsed: 0:00:38.\n",
            "  Batch   360  of  1,247.   Loss:  0.5004.   Elapsed: 0:00:43.\n",
            "  Batch   400  of  1,247.   Loss:  0.1073.   Elapsed: 0:00:48.\n",
            "  Batch   440  of  1,247.   Loss:  0.0774.   Elapsed: 0:00:52.\n",
            "  Batch   480  of  1,247.   Loss:  0.6171.   Elapsed: 0:00:57.\n",
            "  Batch   520  of  1,247.   Loss:  0.4548.   Elapsed: 0:01:02.\n",
            "  Batch   560  of  1,247.   Loss:  0.1765.   Elapsed: 0:01:07.\n",
            "  Batch   600  of  1,247.   Loss:  0.2306.   Elapsed: 0:01:11.\n",
            "  Batch   640  of  1,247.   Loss:  0.0537.   Elapsed: 0:01:16.\n",
            "  Batch   680  of  1,247.   Loss:  0.2047.   Elapsed: 0:01:21.\n",
            "  Batch   720  of  1,247.   Loss:  0.2175.   Elapsed: 0:01:25.\n",
            "  Batch   760  of  1,247.   Loss:  0.3593.   Elapsed: 0:01:30.\n",
            "  Batch   800  of  1,247.   Loss:  0.1204.   Elapsed: 0:01:35.\n",
            "  Batch   840  of  1,247.   Loss:  0.2979.   Elapsed: 0:01:40.\n",
            "  Batch   880  of  1,247.   Loss:  0.2227.   Elapsed: 0:01:44.\n",
            "  Batch   920  of  1,247.   Loss:  0.3360.   Elapsed: 0:01:49.\n",
            "  Batch   960  of  1,247.   Loss:  0.1292.   Elapsed: 0:01:54.\n",
            "  Batch 1,000  of  1,247.   Loss:  0.1594.   Elapsed: 0:01:59.\n",
            "  Batch 1,040  of  1,247.   Loss:  0.4913.   Elapsed: 0:02:04.\n",
            "  Batch 1,080  of  1,247.   Loss:  0.1257.   Elapsed: 0:02:09.\n",
            "  Batch 1,120  of  1,247.   Loss:  0.1550.   Elapsed: 0:02:14.\n",
            "  Batch 1,160  of  1,247.   Loss:  0.1073.   Elapsed: 0:02:18.\n",
            "  Batch 1,200  of  1,247.   Loss:  0.3215.   Elapsed: 0:02:23.\n",
            "  Batch 1,240  of  1,247.   Loss:  0.0207.   Elapsed: 0:02:28.\n",
            "\n",
            "  Average training loss: 0.23\n",
            "  Training epcoh took: 0:02:29\n",
            "\n",
            "Running Validation...\n",
            "  Accuracy: 0.84\n",
            "  Validation Loss: 0.52\n",
            "  Validation took: 0:00:04\n",
            "Saving model to /content/drive/MyDrive/MurataLab/newline/models/20221228_102048/model_3_valacc_0-8376798561151079_valloss_0-5202523948065266.pth\n",
            "\n",
            "======== Epoch 4 / 4 ========\n",
            "Training...\n",
            "  Batch    40  of  1,247.   Loss:  0.0935.   Elapsed: 0:00:05.\n",
            "  Batch    80  of  1,247.   Loss:  0.1056.   Elapsed: 0:00:09.\n",
            "  Batch   120  of  1,247.   Loss:  0.0574.   Elapsed: 0:00:15.\n",
            "  Batch   160  of  1,247.   Loss:  0.0080.   Elapsed: 0:00:20.\n",
            "  Batch   200  of  1,247.   Loss:  0.0534.   Elapsed: 0:00:24.\n",
            "  Batch   240  of  1,247.   Loss:  0.1574.   Elapsed: 0:00:29.\n",
            "  Batch   280  of  1,247.   Loss:  0.2151.   Elapsed: 0:00:34.\n",
            "  Batch   320  of  1,247.   Loss:  0.2184.   Elapsed: 0:00:39.\n",
            "  Batch   360  of  1,247.   Loss:  0.0077.   Elapsed: 0:00:43.\n",
            "  Batch   400  of  1,247.   Loss:  0.1438.   Elapsed: 0:00:48.\n",
            "  Batch   440  of  1,247.   Loss:  0.3843.   Elapsed: 0:00:53.\n",
            "  Batch   480  of  1,247.   Loss:  0.0381.   Elapsed: 0:00:58.\n",
            "  Batch   520  of  1,247.   Loss:  0.1881.   Elapsed: 0:01:02.\n",
            "  Batch   560  of  1,247.   Loss:  0.0107.   Elapsed: 0:01:07.\n",
            "  Batch   600  of  1,247.   Loss:  0.2051.   Elapsed: 0:01:12.\n",
            "  Batch   640  of  1,247.   Loss:  0.7570.   Elapsed: 0:01:17.\n",
            "  Batch   680  of  1,247.   Loss:  0.0646.   Elapsed: 0:01:21.\n",
            "  Batch   720  of  1,247.   Loss:  0.3943.   Elapsed: 0:01:26.\n",
            "  Batch   760  of  1,247.   Loss:  0.0036.   Elapsed: 0:01:31.\n",
            "  Batch   800  of  1,247.   Loss:  0.0612.   Elapsed: 0:01:36.\n",
            "  Batch   840  of  1,247.   Loss:  0.0317.   Elapsed: 0:01:41.\n",
            "  Batch   880  of  1,247.   Loss:  0.3885.   Elapsed: 0:01:46.\n",
            "  Batch   920  of  1,247.   Loss:  0.0665.   Elapsed: 0:01:51.\n",
            "  Batch   960  of  1,247.   Loss:  0.0051.   Elapsed: 0:01:56.\n",
            "  Batch 1,000  of  1,247.   Loss:  0.2231.   Elapsed: 0:02:02.\n",
            "  Batch 1,040  of  1,247.   Loss:  0.0159.   Elapsed: 0:02:07.\n",
            "  Batch 1,080  of  1,247.   Loss:  0.0206.   Elapsed: 0:02:12.\n",
            "  Batch 1,120  of  1,247.   Loss:  0.3498.   Elapsed: 0:02:16.\n",
            "  Batch 1,160  of  1,247.   Loss:  0.0690.   Elapsed: 0:02:21.\n",
            "  Batch 1,200  of  1,247.   Loss:  0.1499.   Elapsed: 0:02:26.\n",
            "  Batch 1,240  of  1,247.   Loss:  0.0255.   Elapsed: 0:02:31.\n",
            "\n",
            "  Average training loss: 0.17\n",
            "  Training epcoh took: 0:02:32\n",
            "\n",
            "Running Validation...\n",
            "  Accuracy: 0.83\n",
            "  Validation Loss: 0.68\n",
            "  Validation took: 0:00:06\n",
            "Saving model to /content/drive/MyDrive/MurataLab/newline/models/20221228_102048/model_4_valacc_0-8327338129496403_valloss_0-6789565489890402.pth\n",
            "\n",
            "Training complete!\n",
            "Total training took 0:10:20 (h:mm:ss)\n"
          ]
        }
      ],
      "source": [
        "OUTPUT_DIR = make_output_dir()\n",
        "tokenizer.save_pretrained(OUTPUT_DIR)\n",
        "\n",
        "fix_seed(SEED)\n",
        "\n",
        "training_stats = []\n",
        "total_t0 = time.time()\n",
        "best_filepath = None\n",
        "\n",
        "for epoch_i in range(0, EPOCHS):\n",
        "    # ========================================\n",
        "    #               Training\n",
        "    # ========================================\n",
        "\n",
        "    # Perform one full pass over the training set.\n",
        "    print(\"\")\n",
        "    print(\"======== Epoch {:} / {:} ========\".format(epoch_i + 1, EPOCHS))\n",
        "    print(\"Training...\")\n",
        "\n",
        "    t0 = time.time()\n",
        "    total_train_loss = 0\n",
        "\n",
        "    model.train()\n",
        "    for step, batch in enumerate(train_dataloader):\n",
        "        if step % 40 == 0 and not step == 0:\n",
        "            elapsed = format_time(time.time() - t0)\n",
        "            # 1つ前のバッチの損失を表示\n",
        "            print(\n",
        "                \"  Batch {:>5,}  of  {:>5,}.   Loss: {:>7.4f}.   Elapsed: {:}.\".format(\n",
        "                    step, len(train_dataloader), loss, elapsed\n",
        "                )\n",
        "            )\n",
        "\n",
        "        b_input_ids = batch[0].to(device)\n",
        "        b_input_mask = batch[1].to(device)\n",
        "        b_labels = batch[2].to(device)\n",
        "\n",
        "        model.zero_grad()\n",
        "\n",
        "        outputs = model(\n",
        "            b_input_ids,\n",
        "            token_type_ids=None,\n",
        "            attention_mask=b_input_mask,\n",
        "            labels=b_labels,\n",
        "        )\n",
        "        loss = outputs.loss\n",
        "        total_train_loss += loss.item()\n",
        "\n",
        "        loss.backward()\n",
        "\n",
        "        # Clip the norm of the gradients to 1.0.\n",
        "        # This is to help prevent the \"exploding gradients\" problem.\n",
        "        torch.nn.utils.clip_grad_norm_(model.parameters(), 1.0)\n",
        "\n",
        "        # Update parameters and take a step using the computed gradient.\n",
        "        optimizer.step()\n",
        "\n",
        "        # Update the learning rate.\n",
        "        scheduler.step()\n",
        "\n",
        "    # Calculate the average loss over all of the batches.\n",
        "    avg_train_loss = total_train_loss / len(train_dataloader)\n",
        "\n",
        "    # Measure how long this epoch took.\n",
        "    training_time = format_time(time.time() - t0)\n",
        "\n",
        "    print(\"\")\n",
        "    print(\"  Average training loss: {0:.2f}\".format(avg_train_loss))\n",
        "    print(\"  Training epcoh took: {:}\".format(training_time))\n",
        "\n",
        "    # ========================================\n",
        "    #               Validation\n",
        "    # ========================================\n",
        "    print(\"\")\n",
        "    print(\"Running Validation...\")\n",
        "\n",
        "    t0 = time.time()\n",
        "    model.eval()\n",
        "\n",
        "    # Tracking variables\n",
        "    total_eval_accuracy = 0\n",
        "    total_eval_loss = 0\n",
        "    nb_eval_steps = 0\n",
        "\n",
        "    for batch in validation_dataloader:\n",
        "        b_input_ids = batch[0].to(device)\n",
        "        b_input_mask = batch[1].to(device)\n",
        "        b_labels = batch[2].to(device)\n",
        "\n",
        "        # Tell pytorch not to bother with constructing the compute graph during\n",
        "        # the forward pass, since this is only needed for backprop (training).\n",
        "        with torch.no_grad():\n",
        "            # Forward pass, calculate logit predictions.\n",
        "            # token_type_ids is the same as the \"segment ids\", which\n",
        "            # differentiates sentence 1 and 2 in 2-sentence tasks.\n",
        "            # The documentation for this `model` function is here:\n",
        "            # https://huggingface.co/transformers/v2.2.0/model_doc/bert.html#transformers.BertForSequenceClassification\n",
        "            # Get the \"logits\" output by the model. The \"logits\" are the output\n",
        "            # values prior to applying an activation function like the softmax.\n",
        "            outputs = model(\n",
        "                b_input_ids,\n",
        "                token_type_ids=None,\n",
        "                attention_mask=b_input_mask,\n",
        "                labels=b_labels,\n",
        "            )\n",
        "        loss = outputs.loss\n",
        "        logits = outputs.logits\n",
        "        total_eval_loss += loss.item()\n",
        "\n",
        "        # Move logits and labels to CPU\n",
        "        logits = logits.detach().cpu().numpy()\n",
        "        label_ids = b_labels.to(\"cpu\").numpy()\n",
        "\n",
        "        total_eval_accuracy += flat_accuracy(logits, label_ids)\n",
        "\n",
        "    avg_val_accuracy = total_eval_accuracy / len(validation_dataloader)\n",
        "    print(\"  Accuracy: {0:.2f}\".format(avg_val_accuracy))\n",
        "\n",
        "    avg_val_loss = total_eval_loss / len(validation_dataloader)\n",
        "\n",
        "    validation_time = format_time(time.time() - t0)\n",
        "\n",
        "    print(\"  Validation Loss: {0:.2f}\".format(avg_val_loss))\n",
        "    print(\"  Validation took: {:}\".format(validation_time))\n",
        "\n",
        "    filepath = save_model(\n",
        "        model,\n",
        "        OUTPUT_DIR,\n",
        "        f\"model_{epoch_i + 1}_valacc_{str(round(avg_val_accuracy, 3)).replace('.','-')}_valloss_{str(round(avg_val_loss, 3)).replace('.','-')}.pth\",\n",
        "    )\n",
        "    if (\n",
        "        best_filepath is None\n",
        "        or avg_val_loss\n",
        "        < min(training_stats, key=lambda x: x[\"Valid. Loss\"])[\"Valid. Loss\"]\n",
        "    ):\n",
        "        best_filepath = filepath\n",
        "\n",
        "    training_stats.append(\n",
        "        {\n",
        "            \"epoch\": epoch_i + 1,\n",
        "            \"Training Loss\": avg_train_loss,\n",
        "            \"Valid. Loss\": avg_val_loss,\n",
        "            \"Valid. Accur.\": avg_val_accuracy,\n",
        "            \"Training Time\": training_time,\n",
        "            \"Validation Time\": validation_time,\n",
        "        }\n",
        "    )\n",
        "\n",
        "print(\"\")\n",
        "print(\"Training complete!\")\n",
        "\n",
        "print(\"Total training took {:} (h:mm:ss)\".format(format_time(time.time() - total_t0)))\n"
      ]
    },
    {
      "cell_type": "markdown",
      "metadata": {
        "id": "ThuBV4tNkv3B"
      },
      "source": [
        "### Result\n"
      ]
    },
    {
      "cell_type": "code",
      "execution_count": 70,
      "metadata": {
        "colab": {
          "base_uri": "https://localhost:8080/",
          "height": 206
        },
        "id": "Qstj6V9PRcqN",
        "outputId": "1a244214-2e23-41e2-afaf-53317f048a2a"
      },
      "outputs": [
        {
          "data": {
            "text/html": [
              "\n",
              "  <div id=\"df-a6030829-afcb-459e-b73a-e37202305ab5\">\n",
              "    <div class=\"colab-df-container\">\n",
              "      <div>\n",
              "<style scoped>\n",
              "    .dataframe tbody tr th:only-of-type {\n",
              "        vertical-align: middle;\n",
              "    }\n",
              "\n",
              "    .dataframe tbody tr th {\n",
              "        vertical-align: top;\n",
              "    }\n",
              "\n",
              "    .dataframe thead th {\n",
              "        text-align: right;\n",
              "    }\n",
              "</style>\n",
              "<table border=\"1\" class=\"dataframe\">\n",
              "  <thead>\n",
              "    <tr style=\"text-align: right;\">\n",
              "      <th></th>\n",
              "      <th>Training Loss</th>\n",
              "      <th>Valid. Loss</th>\n",
              "      <th>Valid. Accur.</th>\n",
              "      <th>Training Time</th>\n",
              "      <th>Validation Time</th>\n",
              "    </tr>\n",
              "    <tr>\n",
              "      <th>epoch</th>\n",
              "      <th></th>\n",
              "      <th></th>\n",
              "      <th></th>\n",
              "      <th></th>\n",
              "      <th></th>\n",
              "    </tr>\n",
              "  </thead>\n",
              "  <tbody>\n",
              "    <tr>\n",
              "      <th>1</th>\n",
              "      <td>0.25</td>\n",
              "      <td>0.43</td>\n",
              "      <td>0.84</td>\n",
              "      <td>0:02:23</td>\n",
              "      <td>0:00:04</td>\n",
              "    </tr>\n",
              "    <tr>\n",
              "      <th>2</th>\n",
              "      <td>0.30</td>\n",
              "      <td>0.41</td>\n",
              "      <td>0.84</td>\n",
              "      <td>0:02:31</td>\n",
              "      <td>0:00:04</td>\n",
              "    </tr>\n",
              "    <tr>\n",
              "      <th>3</th>\n",
              "      <td>0.23</td>\n",
              "      <td>0.52</td>\n",
              "      <td>0.84</td>\n",
              "      <td>0:02:29</td>\n",
              "      <td>0:00:04</td>\n",
              "    </tr>\n",
              "    <tr>\n",
              "      <th>4</th>\n",
              "      <td>0.17</td>\n",
              "      <td>0.68</td>\n",
              "      <td>0.83</td>\n",
              "      <td>0:02:32</td>\n",
              "      <td>0:00:06</td>\n",
              "    </tr>\n",
              "  </tbody>\n",
              "</table>\n",
              "</div>\n",
              "      <button class=\"colab-df-convert\" onclick=\"convertToInteractive('df-a6030829-afcb-459e-b73a-e37202305ab5')\"\n",
              "              title=\"Convert this dataframe to an interactive table.\"\n",
              "              style=\"display:none;\">\n",
              "        \n",
              "  <svg xmlns=\"http://www.w3.org/2000/svg\" height=\"24px\"viewBox=\"0 0 24 24\"\n",
              "       width=\"24px\">\n",
              "    <path d=\"M0 0h24v24H0V0z\" fill=\"none\"/>\n",
              "    <path d=\"M18.56 5.44l.94 2.06.94-2.06 2.06-.94-2.06-.94-.94-2.06-.94 2.06-2.06.94zm-11 1L8.5 8.5l.94-2.06 2.06-.94-2.06-.94L8.5 2.5l-.94 2.06-2.06.94zm10 10l.94 2.06.94-2.06 2.06-.94-2.06-.94-.94-2.06-.94 2.06-2.06.94z\"/><path d=\"M17.41 7.96l-1.37-1.37c-.4-.4-.92-.59-1.43-.59-.52 0-1.04.2-1.43.59L10.3 9.45l-7.72 7.72c-.78.78-.78 2.05 0 2.83L4 21.41c.39.39.9.59 1.41.59.51 0 1.02-.2 1.41-.59l7.78-7.78 2.81-2.81c.8-.78.8-2.07 0-2.86zM5.41 20L4 18.59l7.72-7.72 1.47 1.35L5.41 20z\"/>\n",
              "  </svg>\n",
              "      </button>\n",
              "      \n",
              "  <style>\n",
              "    .colab-df-container {\n",
              "      display:flex;\n",
              "      flex-wrap:wrap;\n",
              "      gap: 12px;\n",
              "    }\n",
              "\n",
              "    .colab-df-convert {\n",
              "      background-color: #E8F0FE;\n",
              "      border: none;\n",
              "      border-radius: 50%;\n",
              "      cursor: pointer;\n",
              "      display: none;\n",
              "      fill: #1967D2;\n",
              "      height: 32px;\n",
              "      padding: 0 0 0 0;\n",
              "      width: 32px;\n",
              "    }\n",
              "\n",
              "    .colab-df-convert:hover {\n",
              "      background-color: #E2EBFA;\n",
              "      box-shadow: 0px 1px 2px rgba(60, 64, 67, 0.3), 0px 1px 3px 1px rgba(60, 64, 67, 0.15);\n",
              "      fill: #174EA6;\n",
              "    }\n",
              "\n",
              "    [theme=dark] .colab-df-convert {\n",
              "      background-color: #3B4455;\n",
              "      fill: #D2E3FC;\n",
              "    }\n",
              "\n",
              "    [theme=dark] .colab-df-convert:hover {\n",
              "      background-color: #434B5C;\n",
              "      box-shadow: 0px 1px 3px 1px rgba(0, 0, 0, 0.15);\n",
              "      filter: drop-shadow(0px 1px 2px rgba(0, 0, 0, 0.3));\n",
              "      fill: #FFFFFF;\n",
              "    }\n",
              "  </style>\n",
              "\n",
              "      <script>\n",
              "        const buttonEl =\n",
              "          document.querySelector('#df-a6030829-afcb-459e-b73a-e37202305ab5 button.colab-df-convert');\n",
              "        buttonEl.style.display =\n",
              "          google.colab.kernel.accessAllowed ? 'block' : 'none';\n",
              "\n",
              "        async function convertToInteractive(key) {\n",
              "          const element = document.querySelector('#df-a6030829-afcb-459e-b73a-e37202305ab5');\n",
              "          const dataTable =\n",
              "            await google.colab.kernel.invokeFunction('convertToInteractive',\n",
              "                                                     [key], {});\n",
              "          if (!dataTable) return;\n",
              "\n",
              "          const docLinkHtml = 'Like what you see? Visit the ' +\n",
              "            '<a target=\"_blank\" href=https://colab.research.google.com/notebooks/data_table.ipynb>data table notebook</a>'\n",
              "            + ' to learn more about interactive tables.';\n",
              "          element.innerHTML = '';\n",
              "          dataTable['output_type'] = 'display_data';\n",
              "          await google.colab.output.renderOutput(dataTable, element);\n",
              "          const docLink = document.createElement('div');\n",
              "          docLink.innerHTML = docLinkHtml;\n",
              "          element.appendChild(docLink);\n",
              "        }\n",
              "      </script>\n",
              "    </div>\n",
              "  </div>\n",
              "  "
            ],
            "text/plain": [
              "       Training Loss  Valid. Loss  Valid. Accur. Training Time Validation Time\n",
              "epoch                                                                         \n",
              "1               0.25         0.43           0.84       0:02:23         0:00:04\n",
              "2               0.30         0.41           0.84       0:02:31         0:00:04\n",
              "3               0.23         0.52           0.84       0:02:29         0:00:04\n",
              "4               0.17         0.68           0.83       0:02:32         0:00:06"
            ]
          },
          "execution_count": 70,
          "metadata": {},
          "output_type": "execute_result"
        }
      ],
      "source": [
        "# Display floats with two decimal places.\n",
        "pd.set_option(\"precision\", 2)\n",
        "\n",
        "df_stats = pd.DataFrame(data=training_stats)\n",
        "df_stats = df_stats.set_index(\"epoch\")\n",
        "df_stats\n"
      ]
    },
    {
      "cell_type": "code",
      "execution_count": 83,
      "metadata": {
        "colab": {
          "base_uri": "https://localhost:8080/",
          "height": 427
        },
        "id": "WaGB_6uJRcqN",
        "outputId": "ede38341-bb52-4aa5-eb7b-bf8119149e3c"
      },
      "outputs": [
        {
          "data": {
            "image/png": "[encoded data removed]",
            "text/plain": [
              "<Figure size 864x432 with 2 Axes>"
            ]
          },
          "metadata": {},
          "output_type": "display_data"
        }
      ],
      "source": [
        "sns.set(style=\"darkgrid\")\n",
        "sns.set(font_scale=1.5)\n",
        "fig = plt.figure(figsize=(12, 6))\n",
        "ax1 = fig.add_subplot(111)\n",
        "ax2 = ax1.twinx()\n",
        "\n",
        "ax1.plot(df_stats[\"Training Loss\"], \"b-o\", label=\"Training loss\")\n",
        "ax1.plot(df_stats[\"Valid. Loss\"], \"g-o\", label=\"Validation Loss\")\n",
        "ax1.set_ylabel(\"Loss\", color=\"b\")\n",
        "ax1.tick_params(axis=\"y\", labelcolor=\"b\")\n",
        "\n",
        "ax2.plot(df_stats[\"Valid. Accur.\"], \"r-o\", label=\"Validation Acc\")\n",
        "ax2.set_ylabel(\"Accuracy\", color=\"r\")\n",
        "ax2.tick_params(axis=\"y\", labelcolor=\"r\")\n",
        "\n",
        "ax1.set_xlabel(\"Epoch\")\n",
        "ax1.set_xticks([1, 2, 3, 4])\n",
        "\n",
        "plt.title(\"Loss and Accuracy\")\n",
        "\n",
        "handler1, label1 = ax1.get_legend_handles_labels()\n",
        "handler2, label2 = ax2.get_legend_handles_labels()\n",
        "ax1.legend(handler1 + handler2, label1 + label2, loc=\"upper left\")\n",
        "\n",
        "plt.show()\n"
      ]
    },
    {
      "cell_type": "markdown",
      "metadata": {
        "id": "RNeRAmS4kv3F"
      },
      "source": [
        "## Test\n"
      ]
    },
    {
      "attachments": {},
      "cell_type": "markdown",
      "metadata": {
        "id": "apnrtE8qYUK9"
      },
      "source": [
        "### Load Dataset & Preprosecc\n"
      ]
    },
    {
      "cell_type": "code",
      "execution_count": 72,
      "metadata": {
        "id": "9U8q1VbCTcJl"
      },
      "outputs": [],
      "source": [
        "TEST_DATASET_PATH = \"/content/drive/MyDrive/MurataLab/newline/test_dataset.csv\"\n"
      ]
    },
    {
      "cell_type": "code",
      "execution_count": 84,
      "metadata": {
        "colab": {
          "base_uri": "https://localhost:8080/"
        },
        "id": "B2CJUnaukv3G",
        "outputId": "6c7db205-1e53-40ad-b9fc-217232db5b26"
      },
      "outputs": [
        {
          "name": "stdout",
          "output_type": "stream",
          "text": [
            "Number of test sentences: 1,424\n",
            "\n"
          ]
        },
        {
          "name": "stderr",
          "output_type": "stream",
          "text": [
            "/usr/local/lib/python3.8/dist-packages/transformers/tokenization_utils_base.py:2336: FutureWarning: The `pad_to_max_length` argument is deprecated and will be removed in a future version, use `padding=True` or `padding='longest'` to pad to the longest sequence in the batch, or use `padding='max_length'` to pad to a max length. In this case, you can give a specific length with `max_length` (e.g. `max_length=45`) or leave max_length to None to pad to the maximal input size of the model (e.g. 512 for Bert).\n",
            "  warnings.warn(\n"
          ]
        }
      ],
      "source": [
        "df = pd.read_csv(TEST_DATASET_PATH)\n",
        "print(\"Number of test sentences: {:,}\\n\".format(df.shape[0]))\n",
        "\n",
        "sentences = df.input.values\n",
        "labels = df.is_line_feed.values.astype(np.int64)  # FIXME\n",
        "\n",
        "input_ids = []\n",
        "attention_masks = []\n",
        "\n",
        "for sentence in sentences:\n",
        "    encoded_dict = tokenizer.encode_plus(\n",
        "        sentence,\n",
        "        add_special_tokens=True,\n",
        "        max_length=MAX_LENGTH,\n",
        "        pad_to_max_length=True,\n",
        "        return_attention_mask=True,\n",
        "        return_tensors=\"pt\",\n",
        "    )\n",
        "\n",
        "    input_ids.append(encoded_dict[\"input_ids\"])\n",
        "    attention_masks.append(encoded_dict[\"attention_mask\"])\n",
        "\n",
        "input_ids = torch.cat(input_ids, dim=0)\n",
        "attention_masks = torch.cat(attention_masks, dim=0)\n",
        "labels = torch.tensor(labels)\n",
        "\n",
        "batch_size = 32\n",
        "\n",
        "prediction_data = TensorDataset(input_ids, attention_masks, labels)\n",
        "prediction_sampler = SequentialSampler(prediction_data)\n",
        "prediction_dataloader = DataLoader(\n",
        "    prediction_data, sampler=prediction_sampler, batch_size=batch_size\n",
        ")\n"
      ]
    },
    {
      "cell_type": "code",
      "execution_count": 85,
      "metadata": {
        "colab": {
          "base_uri": "https://localhost:8080/"
        },
        "id": "16nadQNJkv3G",
        "outputId": "5fe7bc62-5ab0-423a-a3d2-4b52c57582de"
      },
      "outputs": [
        {
          "name": "stdout",
          "output_type": "stream",
          "text": [
            "Predicting labels for 1,424 test sentences...\n"
          ]
        }
      ],
      "source": [
        "print(\"Predicting labels for {:,} test sentences...\".format(len(input_ids)))\n",
        "\n",
        "model.load_state_dict(torch.load(best_filepath))\n",
        "\n",
        "predictions, true_labels = [], []\n",
        "\n",
        "for batch in prediction_dataloader:\n",
        "    batch = tuple(t.to(device) for t in batch)\n",
        "\n",
        "    b_input_ids, b_input_mask, b_labels = batch\n",
        "\n",
        "    with torch.no_grad():\n",
        "        outputs = model(b_input_ids, token_type_ids=None, attention_mask=b_input_mask)\n",
        "\n",
        "    logits = outputs[0]\n",
        "\n",
        "    logits = logits.detach().cpu().numpy()\n",
        "    label_ids = b_labels.to(\"cpu\").numpy()\n",
        "\n",
        "    predictions.append(logits)\n",
        "    true_labels.append(label_ids)\n"
      ]
    },
    {
      "attachments": {},
      "cell_type": "markdown",
      "metadata": {
        "id": "nkbHMzumYh04"
      },
      "source": [
        "### Positive Sample Count\n"
      ]
    },
    {
      "cell_type": "code",
      "execution_count": 86,
      "metadata": {
        "colab": {
          "base_uri": "https://localhost:8080/"
        },
        "id": "dps-TFbkkv3G",
        "outputId": "c0a4379c-3576-4e5f-fcba-eaf2e5bbc7ba"
      },
      "outputs": [
        {
          "name": "stdout",
          "output_type": "stream",
          "text": [
            "Positive samples: 470 of 1424 (33.01%)\n"
          ]
        }
      ],
      "source": [
        "print(\n",
        "    \"Positive samples: %d of %d (%.2f%%)\"\n",
        "    % (\n",
        "        df.is_line_feed.sum(),\n",
        "        len(df.is_line_feed),\n",
        "        (df.is_line_feed.sum() / len(df.is_line_feed) * 100.0),\n",
        "    )\n",
        ")\n"
      ]
    },
    {
      "attachments": {},
      "cell_type": "markdown",
      "metadata": {
        "id": "hi3PvCvQYlXk"
      },
      "source": [
        "### MCC\n",
        "\n",
        "- マシューズ相関係数=MCC（Matthews Correlation Coefficient）\n",
        "- ２値分類モデルの精度をみる指標\n",
        "- +1 の係数は完全予測を表し、0 は平均ランダム予測を表し、-1 は逆予測を表す\n"
      ]
    },
    {
      "cell_type": "code",
      "execution_count": 87,
      "metadata": {
        "colab": {
          "base_uri": "https://localhost:8080/"
        },
        "id": "02-034KDkv3G",
        "outputId": "298d9608-8a3a-46b4-82f2-bd7937e90c14"
      },
      "outputs": [
        {
          "name": "stdout",
          "output_type": "stream",
          "text": [
            "Calculating Matthews Corr. Coef. for each batch...\n"
          ]
        }
      ],
      "source": [
        "matthews_set = []\n",
        "\n",
        "print(\"Calculating Matthews Corr. Coef. for each batch...\")\n",
        "\n",
        "for i in range(len(true_labels)):\n",
        "    # The predictions for this batch are a 2-column ndarray (one column for \"0\"\n",
        "    # and one column for \"1\"). Pick the label with the highest value and turn this\n",
        "    # in to a list of 0s and 1s.\n",
        "    pred_labels_i = np.argmax(predictions[i], axis=1).flatten()\n",
        "\n",
        "    # Calculate and store the coef for this batch.\n",
        "    matthews = matthews_corrcoef(true_labels[i], pred_labels_i)\n",
        "    matthews_set.append(matthews)\n"
      ]
    },
    {
      "cell_type": "code",
      "execution_count": 94,
      "metadata": {
        "colab": {
          "base_uri": "https://localhost:8080/",
          "height": 404
        },
        "id": "icmEXUbpkv3H",
        "outputId": "0a2fc7af-1b1e-4593-8d39-f93b851d6171"
      },
      "outputs": [
        {
          "data": {
            "image/png": "[encoded data removed]",
            "text/plain": [
              "<Figure size 2160x720 with 1 Axes>"
            ]
          },
          "metadata": {},
          "output_type": "display_data"
        }
      ],
      "source": [
        "# Create a barplot showing the MCC score for each batch of test samples.\n",
        "ax = sns.barplot(x=list(range(len(matthews_set))), y=matthews_set, ci=None)\n",
        "\n",
        "plt.title(\"MCC Score per Batch\")\n",
        "plt.ylabel(\"MCC Score (-1 to +1)\")\n",
        "plt.xlabel(\"Batch #\")\n",
        "\n",
        "plt.rcParams[\"figure.figsize\"] = (30, 20)\n",
        "plt.show()\n"
      ]
    },
    {
      "cell_type": "code",
      "execution_count": 89,
      "metadata": {
        "colab": {
          "base_uri": "https://localhost:8080/"
        },
        "id": "pBXR1Z45kv3H",
        "outputId": "b66441b6-5a8f-4d98-c76f-308f2a229829"
      },
      "outputs": [
        {
          "name": "stdout",
          "output_type": "stream",
          "text": [
            "Total MCC: 0.606\n"
          ]
        }
      ],
      "source": [
        "# Combine the results across all batches.\n",
        "flat_predictions = np.concatenate(predictions, axis=0)\n",
        "\n",
        "# For each sample, pick the label (0 or 1) with the higher score.\n",
        "flat_predictions = np.argmax(flat_predictions, axis=1).flatten()\n",
        "\n",
        "# Combine the correct labels for each batch into a single list.\n",
        "flat_true_labels = np.concatenate(true_labels, axis=0)\n",
        "\n",
        "# Calculate the MCC\n",
        "mcc = matthews_corrcoef(flat_true_labels, flat_predictions)\n",
        "\n",
        "print(\"Total MCC: %.3f\" % mcc)\n"
      ]
    },
    {
      "attachments": {},
      "cell_type": "markdown",
      "metadata": {
        "id": "oPChgVvgYobg"
      },
      "source": [
        "### 混同行列\n",
        "\n",
        "- 真陽性（TP: True Positive）: 実際のクラスが陽性で予測も陽性（正解）\n",
        "- 真陰性（TN: True Negative）: 実際のクラスが陰性で予測も陰性（正解）\n",
        "- 偽陽性（FP: False Positive）: 実際のクラスは陰性で予測が陽性（不正解）\n",
        "- 偽陰性（FN: False Negative）: 実際のクラスは陽性で予測が陰性（不正解）\n",
        "\n",
        "```sh\n",
        "                                    Predicted\n",
        "                            Negative  Positive\n",
        "Actual Negative     TN        FP\n",
        "            Positive      FN        TP\n",
        "```\n"
      ]
    },
    {
      "cell_type": "code",
      "execution_count": 90,
      "metadata": {
        "colab": {
          "base_uri": "https://localhost:8080/",
          "height": 347
        },
        "id": "W9NGS5exWuWQ",
        "outputId": "0e3eca42-8a47-4380-d95e-01e48e65279c"
      },
      "outputs": [
        {
          "data": {
            "text/plain": [
              "<matplotlib.axes._subplots.AxesSubplot at 0x7fe108422820>"
            ]
          },
          "execution_count": 90,
          "metadata": {},
          "output_type": "execute_result"
        },
        {
          "data": {
            "image/png": "[encoded data removed]",
            "text/plain": [
              "<Figure size 720x360 with 2 Axes>"
            ]
          },
          "metadata": {},
          "output_type": "display_data"
        }
      ],
      "source": [
        "plt.figure(figsize=(10, 5))\n",
        "sns.heatmap(\n",
        "    confusion_matrix(flat_true_labels, flat_predictions),\n",
        "    annot=True,\n",
        "    cmap=\"Blues\",\n",
        "    fmt=\"d\",\n",
        ")\n",
        "plt.xlabel(\"Predicted\")\n",
        "plt.ylabel(\"Actual\")\n",
        "plt.tight_layout()\n",
        "plt.savefig(os.path.join(OUTPUT_DIR), \"confusion_matrix.png\")\n"
      ]
    },
    {
      "attachments": {},
      "cell_type": "markdown",
      "metadata": {
        "id": "irtfo-UAYzVQ"
      },
      "source": [
        "### 評価指標\n",
        "\n",
        "- 適合率(precision): 陽性と予測されたサンプルのうち正解したサンプルの割合\n",
        "\n",
        "  $$\n",
        "  precision = \\frac{TP}{TP + FP}\n",
        "  $$\n",
        "\n",
        "- 再現率(recall): 実際に陽性のサンプルのうち正解したサンプルの割合\n",
        "\n",
        "  $$\n",
        "  recall = \\frac{TP}{TP + FN}\n",
        "  $$\n",
        "\n",
        "- F1 値(F1-measure): 適合率と再現率の調和平均\n",
        "\n",
        "  $$\n",
        "  F1measure = \\frac{2 * precision * recall}{precision + recall}\n",
        "  $$\n",
        "\n",
        "- macro avg: 陽性・陰性を入れ替えて算出した 2 つの値の算術平均\n",
        "- weighted avg: 陽性・陰性を変えて算出した 2 つの値の加重平均\n",
        "\n",
        "cf. https://note.nkmk.me/python-sklearn-confusion-matrix-score/\n"
      ]
    },
    {
      "cell_type": "code",
      "execution_count": 1,
      "metadata": {
        "colab": {
          "base_uri": "https://localhost:8080/",
          "height": 166
        },
        "id": "ATVLE5O_YzEx",
        "outputId": "91659bba-91ef-4039-a277-ce3e30b4045d"
      },
      "outputs": [
        {
          "ename": "NameError",
          "evalue": "ignored",
          "output_type": "error",
          "traceback": [
            "\u001b[0;31m---------------------------------------------------------------------------\u001b[0m",
            "\u001b[0;31mNameError\u001b[0m                                 Traceback (most recent call last)",
            "\u001b[0;32m<ipython-input-1-9d8e5e4040a0>\u001b[0m in \u001b[0;36m<module>\u001b[0;34m\u001b[0m\n\u001b[0;32m----> 1\u001b[0;31m \u001b[0mpd\u001b[0m\u001b[0;34m.\u001b[0m\u001b[0mDataFrame\u001b[0m\u001b[0;34m(\u001b[0m\u001b[0mclassification_report\u001b[0m\u001b[0;34m(\u001b[0m\u001b[0mflat_true_labels\u001b[0m\u001b[0;34m,\u001b[0m \u001b[0mflat_predictions\u001b[0m\u001b[0;34m,\u001b[0m \u001b[0moutput_dict\u001b[0m\u001b[0;34m=\u001b[0m\u001b[0;32mTrue\u001b[0m\u001b[0;34m)\u001b[0m\u001b[0;34m)\u001b[0m\u001b[0;34m\u001b[0m\u001b[0;34m\u001b[0m\u001b[0m\n\u001b[0m",
            "\u001b[0;31mNameError\u001b[0m: name 'pd' is not defined"
          ]
        }
      ],
      "source": [
        "pd.DataFrame(\n",
        "    classification_report(flat_true_labels, flat_predictions, output_dict=True)\n",
        ")\n",
        "df.to_csv()\n"
      ]
    },
    {
      "attachments": {},
      "cell_type": "markdown",
      "metadata": {
        "id": "yugVlKe6Yr5w"
      },
      "source": [
        "### 全文可視化\n"
      ]
    },
    {
      "cell_type": "code",
      "execution_count": 92,
      "metadata": {
        "colab": {
          "base_uri": "https://localhost:8080/"
        },
        "id": "s-9spDlnTcJn",
        "outputId": "83627994-5764-483c-bc62-f983a81a566d"
      },
      "outputs": [
        {
          "name": "stdout",
          "output_type": "stream",
          "text": [
            "議長\n",
            "どうもありがとうございました\n",
            "只今ご紹介いただきました\n",
            "木村でございます\n",
            "本日はここ名古屋市にお招きいただきまして\n",
            "環境問題の国際的動向と地域からの (x) 取り組みについて\n",
            "報告する機会を与えられ (x) 大変光栄に思っております\n",
            "まず最初に (x) 本会議のホストであります\n",
            "名古屋市長に (x) 心から御礼を申し上げたいと思います\n",
            "昨日来市長が先頭に立たれまして\n",
            "私どもいろいろと案内していただき\n",
            "そして (x) 名古屋市についてご説明いただきました\n",
            "非常にバイタリティ溢れ (x) 若さと行動力と\n",
            "それから (x) リーダーシップ大なりということで\n",
            "お見受けするところ\n",
            "平成の徳川家康のような方ではないかと\n",
            "密かに思っておる次第でございます\n",
            "それから中村さんを始めとする (x) 本会議主催者の皆様にも (x) 御礼申し上げたいと思います\n",
            "私はこの度名古屋市に初めて参りました\n",
            "従いまして (x) あまり予備知識はございませんでした\n",
            "徳川家康のことそれから (x) 小さい頃読みました童話集ですね\n",
            "そういった童話を読んだ記憶が (x) かすかにございます\n",
            "非常に (x) 池田市旧池田市大川市については\n",
            "例えば池田市は\n",
            "大変雪が多い土地だという (x) そういう程度の知識しかございませんでした\n",
            "昨日は池田城の桜の美しい姿などを (x) 見せていただきまして\n",
            "認識を新たにしたところでございます\n",
            "本日は主として三つのことを (x) 報告したいと思っております\n",
            "第一点は\n",
            "今年が地球環境の年であるということでございます\n",
            "それから第二点日本の役割と (x) 特に東アジアでの環境分野での協力についてであります\n",
            "第三点は地域からの取り組み\n",
            "すなわちローカル・イニシアティブについてでございます\n",
            "こういった本題に入ります\n",
            "前にすみません\n",
            "二つほどエピソードを (x) 紹介させていただきたいと思います\n",
            "最初のエピソードはですね\n",
            "ゆで蛙のエピソードと言います\n",
            "ゆで蛙蛙をゆでると言います\n",
            "ちょっと残酷でありますが\n",
            "これはアメリカの副大統領ゴア副大統領\n",
            "アルバーさんの書いた本がございます\n",
            "千九百九十二年に発行されております\n",
            "非常に立派な本がございます\n",
            "この本にエピソードが載っておりますが\n",
            "蛙をですね蛙を熱いお湯に放り込むと\n",
            "熱さに驚いて飛び出すそうです\n",
            "ところが最初にぬるま湯に浸けてですね\n",
            "それから除々に温度を上げていくと\n",
            "そうすると蛙はですね (x) いい湯だなと言うかどうか知りませんが\n",
            "あんまり気が付かずにですね\n",
            "気が付いた時には\n",
            "ゆであがってしまうというようなエピソードがあります\n",
            "私はこういう実験をしたことは (x) ございませんので\n",
            "真偽の程は分かりませんが\n",
            "これは環境問題が除々に悪化していくと\n",
            "そういう気が付いた時には\n",
            "対策を取ろうとしても\n",
            "遅すぎると\n",
            "そういったことを示した (x) エピソードでございます\n",
            "でもう一つエピソードを紹介致します\n",
            "エピソードというよりも\n",
            "これはパズルでございます\n",
            "昨日は池田城で夜桜を拝見し (x) そこで池に参りまして\n",
            "素晴らしい蓮が生えてる池を (x) 紹介していただきました\n",
            "世界的にも有数な蓮の綺麗な池というお話でございました\n",
            "これからお話ししますことは\n",
            "お釈迦様の庭の池の蓮でございます\n",
            "これは実は日本の総理が (x) 先進国首脳サミットジーセブンサミットで\n",
            "演説された時のエピソードということでございます\n",
            "お釈迦様の庭に非常に大きな池がありました\n",
            "池に蓮が咲きました\n",
            "最初の日は一個咲きました\n",
            "ニ日目にはニ個咲きました\n",
            "三日目には\n",
            "その倍で四つ咲きました\n",
            "そして二十九日かかって\n",
            "池の半分が (x) 蓮の花でいっぱいになりました\n",
            "まだ池は半分残っています\n",
            "ここでクエスチョンですが\n",
            "さてこの池はあと何日もつでしょうかというのが\n",
            "クエスチョンです\n",
            "おそらく数学が得意な方は (x) すぐ分かると思いますが\n",
            "三十日目\n",
            "すなわち一日で (x) 池はいっぱいになってしまいます\n",
            "まだ半分残っているから大丈夫だと思っても\n",
            "もう実は余り時間はないということでございます\n",
            "蓮の花ですと\n",
            "非常に綺麗ですから結構ですが\n",
            "これはやはり除々に進行する環境汚染というふうに考えると\n",
            "地球環境の悪化に気付いた時には\n",
            "やはり手遅れだということを (x) 象徴するクエスチョンでございます\n",
            "でそのクエスチョンは\n",
            "ここで止まらず\n",
            "もう一題実は問いがございます\n",
            "次のクエスチョンは (x) オリジナルクエスチョンです\n",
            "この元総理の演説の件ですが\n",
            "原稿を書いたのは\n",
            "誰かというのが (x) クエスチョンです\n",
            "答えは\n",
            "山田太郎さん (x) 山田さんが通産省の事務官としてサミットや\n",
            "地球環境問題を担当されている時に\n",
            "書かれたそうでございます\n",
            "これは元総理から何度か (x) 直接お聞きする機会がございましたので\n",
            "まず間違いないだろうと思います\n",
            "山田さんご一家はここ名古屋市と (x) ご縁が大変深いということですので\n",
            "この機会に紹介をさせていただきました\n",
            "さてそれでは本題に入らせていただきます\n",
            "先程申し上げましたように\n",
            "千九百九十七年は再び地球環境の年でございます\n",
            "再びという意味はちょうど今から五年前\n",
            "千九百九十二年の六月ですが\n",
            "ブラジルのリオデジャネイロで\n",
            "国連環境開発会議\n",
            "いわゆる地球サミットが (x) 開催されております\n",
            "その時には\n",
            "世界中から百八十か国が参加し (x) 百か国以上の大統領や首相が集まりまして\n",
            "非常に高い政治レベルで\n",
            "いわゆる持続可能な開発に向けた約束 (x) コミットメントがされております\n",
            "具体的には開発と環境に関するリオ宣言\n",
            "これは人と自然との関わり (x) 国と国との関わりといった\n",
            "二十一世紀に向けた基本的原則を宣言した\n",
            "二十八項目からなる宣言でございます\n",
            "それから (x) 二十一世紀に向けた国際社会の行動計画として\n",
            "アジェンダ二十一が採択されております\n",
            "さらに世界全体の森林の保全と (x) 活用の原則を明らかにした\n",
            "森林原則声明が出されております\n",
            "それから大変重要な条約として\n",
            "地球温暖化に関する\n",
            "国際的取り組みの (x) 枠組みを定めた気候変動枠組み条約\n",
            "それから多様な生物の保全と活用を (x) 定めた生物多様性条約 (x) こういった条約などが\n",
            "リオの地球サミットで (x) 採択され\n",
            "署名されております\n",
            "地球サミット以降\n",
            "各国やあるいは国際的レベルで (x) 開発を\n",
            "より持続可能なものにし\n",
            "環境保全を進めるための\n",
            "新しい取り組みが\n",
            "進められております\n",
            "国際環境条約に基づく取り組み\n",
            "あるいは我が国におきましては\n",
            "環境基本法\n",
            "それから環境基本計画といった国家の計画に (x) 基づく取り組みが\n",
            "進められております\n",
            "また行政だけでなくて\n",
            "民間企業や (x) それから市民グループあるいはエヌジーオーといった\n",
            "いろんなグループが (x) リオで議論された約束されたことを (x) 実現すべく行動を起こしております\n",
            "中村さんから紹介がございました\n",
            "アイエスオー一万四千シリーズと\n",
            "この発効なども\n",
            "そういった一つの例であろうかと思います\n",
            "しかし地球環境として見ますと\n",
            "地球環境の悪化の\n",
            "趨勢と\n",
            "それから持続可能でない生産消費パターンが (x) 依然として支配的でございます\n",
            "特に開発途上国といわれる国々においては\n",
            "貧困と\n",
            "それから (x) 基本的な生活資源の不足の状態は\n",
            "改善されているとは言えない状態に (x) ございます\n",
            "また急速に経済発展を遂げている\n",
            "諸国におきましても (x) ともすれば\n",
            "環境への配慮が後回りになる (x) 傾向が見られます\n",
            "ここでリオの地球サミットで\n",
            "議論された\n",
            "持続可能な開発ということについて\n",
            "若干補足したいと思います\n",
            "持続可能な開発は英語で言いますと\n",
            "サステイナブルデベロップメントということであります\n",
            "サステインできる持続できると\n",
            "サステイナビリティといいますか\n",
            "持続性といったことが\n",
            "キーワードとなっております\n",
            "持続できる開発というと\n",
            "開発が持続できるというふうに\n",
            "誤解され易いんですが\n",
            "これは本来ですね\n",
            "現在のままの開発\n",
            "現在のやり方\n",
            "あるいは現在の (x) 生産消費パターンでは駄目だと\n",
            "これを抜本的に変える必要があると\n",
            "そういった深い危機意識に (x) 基づくものであります\n",
            "従いまして\n",
            "現在のような開発が (x) 持続できるということではございません\n",
            "それから翻って\n",
            "開発という言葉を考えてみたいと思います\n",
            "開発は英語ではデベロップメントといいます\n",
            "英語の言葉でいいますと\n",
            "例えばエンベロップていう言葉がありますが\n",
            "エンベロップとデベロップていう言葉は (x) 共通の語源を持っているそうであります\n",
            "エンベロップは封筒ですから\n",
            "封筒を開けると\n",
            "中から手紙が出てきます\n",
            "メッセージが出てきます\n",
            "こういったことから分かるようにですね\n",
            "デベロップメントもですね\n",
            "本来或る地域だとか\n",
            "或る人だとか\n",
            "或る国が (x) 持っている\n",
            "潜在的可能性を最大限引き出す\n",
            "そういったことが (x) デベロップメントであります\n",
            "日本ですと\n",
            "とかくですね (x) 開発と環境は対立するという捉え方が (x) されています\n",
            "それは (x) 開発が一つのパターンとして\n",
            "捉えられていて\n",
            "例えば元々ある自然をブルトーザーで壊して\n",
            "そこにゴルフ場を作るとか工場を作るとか\n",
            "そういったことだけを (x) 考えてるからだろうかと思います\n",
            "元々その土地が持っている\n",
            "潜在的な力だとか能力を最大限に生かすということであればですね\n",
            "開発と環境は本来対立すべきものではないということが\n",
            "お分かり頂けるだろうと (x) 思います\n",
            "それから次にもう一つ (x) 最近しきりと地球にやさしいという言葉が (x) 使われております\n",
            "地球にやさしいから\n",
            "一見大変ソフトであります\n",
            "耳触りが良い言葉であります\n",
            "しかしこれも裏返して言いますと\n",
            "地球にやさしいということは\n",
            "人間に対して\n",
            "厳しい (x) あるいは資源とか資源ですね\n",
            "エネルギーを浪費する産業活動とか\n",
            "あるいは先進国のですね (x) 浪費的ライフスタイルと\n",
            "そういったことを厳しく見直すことが (x) 地球にやさしいと\n",
            "そういった言葉の意味であるというふうに (x) 考えております\n",
            "そういった若干の警告を兼ねたことを (x) 述べて参りましたが\n",
            "一つの具体的地球環境問題の例としまして\n",
            "一番大きい問題であると思われます\n",
            "地球温暖化について\n",
            "若干お話ししてみたいと思います\n",
            "今日会場の皆さんにはこういう (x) これからどうする\n",
            "二十一世紀 (x) どうなるだろう\n",
            "地球という\n",
            "こういうパンフレットをお配りしてあります\n",
            "アイスクリームの地球が (x) だんだん溶けているのでございます\n",
            "これは後程ご覧いただきたいと思いますが\n",
            "アイスクリームの地球というのは (x) 実はゴロ合わせでありまして\n",
            "アイスクリームを英語で分解すると\n",
            "アイとスクリームとに分けると\n",
            "私は叫ぶ\n",
            "そういう意味もあります\n",
            "そうすると地球は叫んでいると\n",
            "そういう地球が温暖化で叫んでいて\n",
            "溶けていってしまっているという\n",
            "そういうゴロ合わせではないかと\n",
            "今ふと思いついたわけでありますが\n",
            "そう思っております\n",
            "実はですね地球全体の気温を見てみますと\n",
            "千九百九十六年をですね (x) 九十七年と九十五年に\n",
            "引き続き\n",
            "観測史上一番高い温度を記録しております\n",
            "今年九十七年は日本でも (x) 相当暖冬でございましたが\n",
            "最近世界各地で非常に暑い暑い夏 (x) 熱波が起こったり\n",
            "あるいは季節はずれの大洪水とか\n",
            "あるいは強い風が起こったりしております\n",
            "千九百九十五年の七月には\n",
            "アメリカのシカゴで (x) 熱波ヒートウェーブに襲われております\n",
            "その時\n",
            "ヒートウェーブによる\n",
            "ヒートウェーブによって\n",
            "四百六十五人が (x) 高熱によるストレスで\n",
            "死亡したと (x) 報告されております\n",
            "非常に近代化し (x) 工業化された都市であるシカゴで (x) こういうことが起こっているわけであります\n",
            "この時の気温は (x) 三十七度か三十八度だったそうですが\n",
            "シカゴはアメリカのトウモロコシ地帯 (x) コーンベルト地帯と言っていますが\n",
            "穀物地帯の一番北の端で位置しております\n",
            "そういうトウモロコシ地帯で (x) 気温がどんどん上がっていきますと\n",
            "熱波が植物に影響を与えて\n",
            "収穫量が減って参ります\n",
            "九十五年\n",
            "この年はこういう熱波が (x) アメリカだけでなくて\n",
            "いろいろな (x) 食糧生産する国で起こりまして\n",
            "不作になってしまいまして\n",
            "千九百八十八年以来\n",
            "最悪の不作となっております\n",
            "このときはしょくもつの備蓄も\n",
            "史上最低となりまして\n",
            "食べ物の価格が (x) 二倍になってしまっております\n",
            "こういった影響はまず最初には (x) 世界で一番貧しい国々に (x) 影響があるわけでございます\n",
            "しかし日本にも確実に (x) 影響が及んでくるわけでございます\n",
            "日本の食料自給率は\n",
            "千九百六十五年には\n",
            "七十三パーセントでございましたが\n",
            "千九百九十四年には\n",
            "四十六パーセントでございます\n",
            "最近発表された報道によりますと\n",
            "千九百九十五年には\n",
            "四十ニパーセントにまで\n",
            "低下しております\n",
            "食料は外国から輸入すればいいという (x) 議論もございますが\n",
            "食糧を輸入するということは\n",
            "実は (x) その生産のために使われる土やそれから (x) 水をいわば輸入しているということと (x) 同じことでもございます\n",
            "例えば千九百九十二年に日本が輸入した (x) 小麦だけで\n",
            "そのためにですね\n",
            "日本の四国の面積を超える土地が (x) 使われていると\n",
            "そういった計算もございます\n",
            "このようにですね\n",
            "私たちの生活は\n",
            "世界の土地や水などの環境に (x) 依存して営まれていること\n",
            "世界のお陰で日本があるということであろうと思います\n",
            "先程ここ名古屋市のことについて (x) 知っていることをお話し致しましたが\n",
            "旧池田市については\n",
            "私ども小学生の時などには\n",
            "全国でもですね (x) 最も積雪量が多いという地域であることを (x) 教わった記憶がございます\n",
            "毎年屋根の雪下ろしが大変だということも (x) 伺っております\n",
            "ただお聞きするところでは\n",
            "最近はその回数が相当減ってきているということでございます\n",
            "これも場合によると (x) 温暖化の影響かも知れません\n",
            "雪かき作業が楽になるということは\n",
            "大変結構なことではありますが\n",
            "降雪量が減り\n",
            "雪が雨になるということは\n",
            "地球のですね\n",
            "年間を通じての水の循環が (x) 変わってしまうということでございます\n",
            "雪が天然のダムであって (x) 冬の間に蓄えられて\n",
            "除々に流れていって\n",
            "それが植物や農作物の生育に (x) 寄与しているということ\n",
            "美味しいこしひかりも\n",
            "こういった自然のダムである雪解け水 (x) 雪によって育まれていると\n",
            "昨日中村さんから教えていただきました\n",
            "年間降雨量は二千八百八十ミリメートルだということだそうですが\n",
            "そういった量と降り方が (x) 変わってくるということですので\n",
            "地球温暖化によって地域のですね\n",
            "農業活動とか\n",
            "それから産業活動とか\n",
            "そういった私たち一人一人の生活の細部まで (x) 思わない影響が及ぶ可能性が (x) あるわけでございます\n",
            "もちろんこういったことに対して\n",
            "世界的な (x) 取り組みが\n",
            "進んでいるわけでありますが\n",
            "先程申し上げましたように\n",
            "まだまだ不十分であるというふうに (x) 私どもは考えております\n",
            "こうした状況の下でですね\n",
            "今年の六月二十三日から二十八日まで\n",
            "ニューヨークの国連本部で (x) 環境と開発に関する国連特別総会が (x) 開催される予定でございます\n",
            "これは先程紹介しました\n",
            "二十一世紀に向けた世界的行動計画であります\n",
            "アジェンダ二十一を始めとする (x) 地球サミットで合意し約束した事項をですね\n",
            "どれだけ実施されているか\n",
            "どういった部分が不十分であるか\n",
            "今後どういうことをすべきかと\n",
            "そういったことをレビューしまして\n",
            "今後その進展に向けた政治的な意思をですね\n",
            "高めていくと\n",
            "国際社会を構成する\n",
            "多様な (x) ステイクホルダーとして (x) 関係者が\n",
            "まさにグローバルな (x) パートナーシップを築いていくと\n",
            "そういう機会として\n",
            "今年の六月二十三日から二十八日まで (x) ニューヨークで\n",
            "国連環境特別総会が\n",
            "予定されているわけでございます\n",
            "国連環境特別総会の直前ですが\n",
            "六月の二十日から二十二日までは\n",
            "アメリカのデンバーで\n",
            "先進国首脳会議\n",
            "ジーセブンサミット\n",
            "最近では (x) ジーエイトサミットと言うんでしょうか\n",
            "そういうサミットが開催される (x) 予定でございます\n",
            "従いまして\n",
            "ここにおいてもですね\n",
            "地球環境問題が議題として取り上げられる (x) 予定でございます\n",
            "日本の首相は (x) デンバーでの\n",
            "ジーセブンサミットに\n",
            "引き続き (x) ニューヨークでの国連総会へも出席されるという意向を明らかにされています\n",
            "こうした六月にニューヨークで\n",
            "国連環境特別総会があることに加えまして\n",
            "もう一つ大変重要な会議が\n",
            "今度は日本で開かれます\n",
            "今年の十二月一日から十日にかけて (x) 京都で\n",
            "地球温暖化防止京都会議が\n",
            "予定されております\n",
            "通称コップスリーシーオーピースリー\n",
            "正確には\n",
            "気候変動枠組み条約第三回締約国会議という\n",
            "名称でございますが\n",
            "こういう会議が予定されています\n",
            "これは先程申し上げました\n",
            "地球温暖化に関する国際的取り組みを\n",
            "議論する会議でございます\n",
            "現在の気候変動枠組み条約では\n",
            "二十一世紀二千年までにですね\n",
            "先進国が\n",
            "地球温暖化の原因となる二酸化炭素を (x) 千九百九十年のレベルまで戻すという目標が定められております\n",
            "先進国はそれぞれ努力していますが\n",
            "なかなかその目標が達成できない状況でございます\n",
            "また実は二十一世紀以降二千年以降の (x) 取り組みについては\n",
            "条約上では\n",
            "具体的な目標なり取り組みは\n",
            "決まっておりません\n",
            "そういった二十一世紀以降について\n",
            "地球温暖化対策を各国がどういう目標を立て\n",
            "どういう政策と手段を取って (x) 進めていくべきかと\n",
            "そういうことを決めることが予定されている (x) 会議が\n",
            "地球温暖化防止京都会議でございます\n",
            "この会議は (x) 日本で開かれる国連関係の会議としましては\n",
            "おそらく史上最大の会議になると (x) 言われております\n",
            "おそらく百七十か国以上\n",
            "参加するでしょうし\n",
            "政府代表\n",
            "それから産業界マスコミ (x) 地方自治体\n",
            "それからエヌジーオー等々と (x) 参加いたしますので\n",
            "五千名ぐらい参加するんではないかということが言われております\n",
            "そういう規模において\n",
            "非常に大きいということもございますし\n",
            "それから先程申し上げましたように\n",
            "二十一世紀の地球温暖化対策\n",
            "これはエネルギー産業生活運輸 (x) すべてに関わるわけでございますが\n",
            "こういった\n",
            "二十一世紀の\n",
            "地球温暖化対策という (x) 人類の将来を左右する大変重要な内容を (x) 審議し決定することが求められる (x) 会議でございます\n",
            "日本は会議のホスト国でございます\n",
            "通常ホスト国が議長国になるということが (x) 慣例でありますので\n",
            "議長として各国のですね\n",
            "非常に難しい (x) 錯綜した主張だとか立場を調整して\n",
            "なおかつ世界全体として\n",
            "より建設的な (x) 合意ができるよう引っ張っていくと\n",
            "そういう重要な役割が (x) 期待されているわけでございます\n",
            "そういう意味におきまして\n",
            "今年は (x) 六月のニューヨークの国連環境特別総会と\n",
            "それから十二月の\n",
            "地球温暖化防止京都会議と\n",
            "そういう重要な会議を控えて改めて\n",
            "地球環境問題\n",
            "それから開発の問題について\n",
            "世界的議論\n",
            "あるいは国民的議論を (x) 展開するべき\n",
            "重要な年であるということを\n",
            "まず第一点として\n",
            "報告したいと思います\n"
          ]
        }
      ],
      "source": [
        "for i, sentence in enumerate(sentences):\n",
        "    text, _ = sentence.split(\"[ANS]\")\n",
        "    print(text, end=\"\")\n",
        "    if flat_predictions[i] == 1:\n",
        "        print()\n",
        "    elif flat_true_labels[i] == 1:\n",
        "        print(\" (x) \", end=\"\")\n",
        "\n",
        "print(sentences[-1].split(\"[ANS]\")[1])\n"
      ]
    }
  ],
  "metadata": {
    "accelerator": "GPU",
    "colab": {
      "provenance": []
    },
    "gpuClass": "standard",
    "kernelspec": {
      "display_name": "venv",
      "language": "python",
      "name": "python3"
    },
    "language_info": {
      "codemirror_mode": {
        "name": "ipython",
        "version": 3
      },
      "file_extension": ".py",
      "mimetype": "text/x-python",
      "name": "python",
      "nbconvert_exporter": "python",
      "pygments_lexer": "ipython3",
      "version": "3.10.5 (main, Jul  7 2022, 20:58:07) [Clang 12.0.5 (clang-1205.0.22.11)]"
    },
    "orig_nbformat": 4,
    "vscode": {
      "interpreter": {
        "hash": "294252db5989f7e12b7215c0f64397d9acb0d211d5f7e00aa1e71c3fd3e5557d"
      }
    },
    "widgets": {
      "application/vnd.jupyter.widget-state+json": {
        "026628bbb7c940ac944d49fcbea53ad9": {
          "model_module": "@jupyter-widgets/controls",
          "model_module_version": "1.5.0",
          "model_name": "HBoxModel",
          "state": {
            "_dom_classes": [],
            "_model_module": "@jupyter-widgets/controls",
            "_model_module_version": "1.5.0",
            "_model_name": "HBoxModel",
            "_view_count": null,
            "_view_module": "@jupyter-widgets/controls",
            "_view_module_version": "1.5.0",
            "_view_name": "HBoxView",
            "box_style": "",
            "children": [
              "IPY_MODEL_421e520e42ef4cc2832d0be7417221b6",
              "IPY_MODEL_f767afa7cc9a4ba0974e303eca3ddb0f",
              "IPY_MODEL_0d38e3ca4b6d4167b0f735e3b232e298"
            ],
            "layout": "IPY_MODEL_6ee1714e4d9d48ed9930b35eb12d0c77"
          }
        },
        "0cbcec2197b04505a0cd95d51ed6ea36": {
          "model_module": "@jupyter-widgets/controls",
          "model_module_version": "1.5.0",
          "model_name": "DescriptionStyleModel",
          "state": {
            "_model_module": "@jupyter-widgets/controls",
            "_model_module_version": "1.5.0",
            "_model_name": "DescriptionStyleModel",
            "_view_count": null,
            "_view_module": "@jupyter-widgets/base",
            "_view_module_version": "1.2.0",
            "_view_name": "StyleView",
            "description_width": ""
          }
        },
        "0d38e3ca4b6d4167b0f735e3b232e298": {
          "model_module": "@jupyter-widgets/controls",
          "model_module_version": "1.5.0",
          "model_name": "HTMLModel",
          "state": {
            "_dom_classes": [],
            "_model_module": "@jupyter-widgets/controls",
            "_model_module_version": "1.5.0",
            "_model_name": "HTMLModel",
            "_view_count": null,
            "_view_module": "@jupyter-widgets/controls",
            "_view_module_version": "1.5.0",
            "_view_name": "HTMLView",
            "description": "",
            "description_tooltip": null,
            "layout": "IPY_MODEL_d8a9ddf72099443083fbcf72c41dac60",
            "placeholder": "​",
            "style": "IPY_MODEL_0cbcec2197b04505a0cd95d51ed6ea36",
            "value": " 258k/258k [00:00&lt;00:00, 283kB/s]"
          }
        },
        "171c8f2dc8fd47fca3ed8935abbc8775": {
          "model_module": "@jupyter-widgets/controls",
          "model_module_version": "1.5.0",
          "model_name": "HTMLModel",
          "state": {
            "_dom_classes": [],
            "_model_module": "@jupyter-widgets/controls",
            "_model_module_version": "1.5.0",
            "_model_name": "HTMLModel",
            "_view_count": null,
            "_view_module": "@jupyter-widgets/controls",
            "_view_module_version": "1.5.0",
            "_view_name": "HTMLView",
            "description": "",
            "description_tooltip": null,
            "layout": "IPY_MODEL_bc3dd183de9247aaab7efece14a47df2",
            "placeholder": "​",
            "style": "IPY_MODEL_9e10034ba74347ecbb87b959129fc4e3",
            "value": "Downloading: 100%"
          }
        },
        "214ea022891c4ffba55dd2d78f561490": {
          "model_module": "@jupyter-widgets/controls",
          "model_module_version": "1.5.0",
          "model_name": "ProgressStyleModel",
          "state": {
            "_model_module": "@jupyter-widgets/controls",
            "_model_module_version": "1.5.0",
            "_model_name": "ProgressStyleModel",
            "_view_count": null,
            "_view_module": "@jupyter-widgets/base",
            "_view_module_version": "1.2.0",
            "_view_name": "StyleView",
            "bar_color": null,
            "description_width": ""
          }
        },
        "3047b053748a4c3496359dd04ef178f3": {
          "model_module": "@jupyter-widgets/controls",
          "model_module_version": "1.5.0",
          "model_name": "FloatProgressModel",
          "state": {
            "_dom_classes": [],
            "_model_module": "@jupyter-widgets/controls",
            "_model_module_version": "1.5.0",
            "_model_name": "FloatProgressModel",
            "_view_count": null,
            "_view_module": "@jupyter-widgets/controls",
            "_view_module_version": "1.5.0",
            "_view_name": "ProgressView",
            "bar_style": "success",
            "description": "",
            "description_tooltip": null,
            "layout": "IPY_MODEL_cd8c6a592b25447889b70dec025f977e",
            "max": 110,
            "min": 0,
            "orientation": "horizontal",
            "style": "IPY_MODEL_e3ee9efc734a4b88ade318627d6d19f1",
            "value": 110
          }
        },
        "3204962fcc7448a58d25579e57695dbf": {
          "model_module": "@jupyter-widgets/base",
          "model_module_version": "1.2.0",
          "model_name": "LayoutModel",
          "state": {
            "_model_module": "@jupyter-widgets/base",
            "_model_module_version": "1.2.0",
            "_model_name": "LayoutModel",
            "_view_count": null,
            "_view_module": "@jupyter-widgets/base",
            "_view_module_version": "1.2.0",
            "_view_name": "LayoutView",
            "align_content": null,
            "align_items": null,
            "align_self": null,
            "border": null,
            "bottom": null,
            "display": null,
            "flex": null,
            "flex_flow": null,
            "grid_area": null,
            "grid_auto_columns": null,
            "grid_auto_flow": null,
            "grid_auto_rows": null,
            "grid_column": null,
            "grid_gap": null,
            "grid_row": null,
            "grid_template_areas": null,
            "grid_template_columns": null,
            "grid_template_rows": null,
            "height": null,
            "justify_content": null,
            "justify_items": null,
            "left": null,
            "margin": null,
            "max_height": null,
            "max_width": null,
            "min_height": null,
            "min_width": null,
            "object_fit": null,
            "object_position": null,
            "order": null,
            "overflow": null,
            "overflow_x": null,
            "overflow_y": null,
            "padding": null,
            "right": null,
            "top": null,
            "visibility": null,
            "width": null
          }
        },
        "34ef02d0e8824eb4803372814f5d30a0": {
          "model_module": "@jupyter-widgets/base",
          "model_module_version": "1.2.0",
          "model_name": "LayoutModel",
          "state": {
            "_model_module": "@jupyter-widgets/base",
            "_model_module_version": "1.2.0",
            "_model_name": "LayoutModel",
            "_view_count": null,
            "_view_module": "@jupyter-widgets/base",
            "_view_module_version": "1.2.0",
            "_view_name": "LayoutView",
            "align_content": null,
            "align_items": null,
            "align_self": null,
            "border": null,
            "bottom": null,
            "display": null,
            "flex": null,
            "flex_flow": null,
            "grid_area": null,
            "grid_auto_columns": null,
            "grid_auto_flow": null,
            "grid_auto_rows": null,
            "grid_column": null,
            "grid_gap": null,
            "grid_row": null,
            "grid_template_areas": null,
            "grid_template_columns": null,
            "grid_template_rows": null,
            "height": null,
            "justify_content": null,
            "justify_items": null,
            "left": null,
            "margin": null,
            "max_height": null,
            "max_width": null,
            "min_height": null,
            "min_width": null,
            "object_fit": null,
            "object_position": null,
            "order": null,
            "overflow": null,
            "overflow_x": null,
            "overflow_y": null,
            "padding": null,
            "right": null,
            "top": null,
            "visibility": null,
            "width": null
          }
        },
        "3f6e83ac776c4252bf5724314df41e27": {
          "model_module": "@jupyter-widgets/base",
          "model_module_version": "1.2.0",
          "model_name": "LayoutModel",
          "state": {
            "_model_module": "@jupyter-widgets/base",
            "_model_module_version": "1.2.0",
            "_model_name": "LayoutModel",
            "_view_count": null,
            "_view_module": "@jupyter-widgets/base",
            "_view_module_version": "1.2.0",
            "_view_name": "LayoutView",
            "align_content": null,
            "align_items": null,
            "align_self": null,
            "border": null,
            "bottom": null,
            "display": null,
            "flex": null,
            "flex_flow": null,
            "grid_area": null,
            "grid_auto_columns": null,
            "grid_auto_flow": null,
            "grid_auto_rows": null,
            "grid_column": null,
            "grid_gap": null,
            "grid_row": null,
            "grid_template_areas": null,
            "grid_template_columns": null,
            "grid_template_rows": null,
            "height": null,
            "justify_content": null,
            "justify_items": null,
            "left": null,
            "margin": null,
            "max_height": null,
            "max_width": null,
            "min_height": null,
            "min_width": null,
            "object_fit": null,
            "object_position": null,
            "order": null,
            "overflow": null,
            "overflow_x": null,
            "overflow_y": null,
            "padding": null,
            "right": null,
            "top": null,
            "visibility": null,
            "width": null
          }
        },
        "421e520e42ef4cc2832d0be7417221b6": {
          "model_module": "@jupyter-widgets/controls",
          "model_module_version": "1.5.0",
          "model_name": "HTMLModel",
          "state": {
            "_dom_classes": [],
            "_model_module": "@jupyter-widgets/controls",
            "_model_module_version": "1.5.0",
            "_model_name": "HTMLModel",
            "_view_count": null,
            "_view_module": "@jupyter-widgets/controls",
            "_view_module_version": "1.5.0",
            "_view_name": "HTMLView",
            "description": "",
            "description_tooltip": null,
            "layout": "IPY_MODEL_571c384f817b4effab6bf0b4d077ebc8",
            "placeholder": "​",
            "style": "IPY_MODEL_5e6519fd5d954a93aa98b358043d22af",
            "value": "Downloading: 100%"
          }
        },
        "42a868bd3c7043b2b325a8ae9d622f7e": {
          "model_module": "@jupyter-widgets/controls",
          "model_module_version": "1.5.0",
          "model_name": "DescriptionStyleModel",
          "state": {
            "_model_module": "@jupyter-widgets/controls",
            "_model_module_version": "1.5.0",
            "_model_name": "DescriptionStyleModel",
            "_view_count": null,
            "_view_module": "@jupyter-widgets/base",
            "_view_module_version": "1.2.0",
            "_view_name": "StyleView",
            "description_width": ""
          }
        },
        "4a7ad6861426459ea51279e85e47e9ed": {
          "model_module": "@jupyter-widgets/controls",
          "model_module_version": "1.5.0",
          "model_name": "ProgressStyleModel",
          "state": {
            "_model_module": "@jupyter-widgets/controls",
            "_model_module_version": "1.5.0",
            "_model_name": "ProgressStyleModel",
            "_view_count": null,
            "_view_module": "@jupyter-widgets/base",
            "_view_module_version": "1.2.0",
            "_view_name": "StyleView",
            "bar_color": null,
            "description_width": ""
          }
        },
        "54b69d594f3242f69b7207c917bc172a": {
          "model_module": "@jupyter-widgets/controls",
          "model_module_version": "1.5.0",
          "model_name": "HTMLModel",
          "state": {
            "_dom_classes": [],
            "_model_module": "@jupyter-widgets/controls",
            "_model_module_version": "1.5.0",
            "_model_name": "HTMLModel",
            "_view_count": null,
            "_view_module": "@jupyter-widgets/controls",
            "_view_module_version": "1.5.0",
            "_view_name": "HTMLView",
            "description": "",
            "description_tooltip": null,
            "layout": "IPY_MODEL_3f6e83ac776c4252bf5724314df41e27",
            "placeholder": "​",
            "style": "IPY_MODEL_bba84d5cc84542b4addf03278337ffa1",
            "value": " 445M/445M [00:05&lt;00:00, 73.5MB/s]"
          }
        },
        "571c384f817b4effab6bf0b4d077ebc8": {
          "model_module": "@jupyter-widgets/base",
          "model_module_version": "1.2.0",
          "model_name": "LayoutModel",
          "state": {
            "_model_module": "@jupyter-widgets/base",
            "_model_module_version": "1.2.0",
            "_model_name": "LayoutModel",
            "_view_count": null,
            "_view_module": "@jupyter-widgets/base",
            "_view_module_version": "1.2.0",
            "_view_name": "LayoutView",
            "align_content": null,
            "align_items": null,
            "align_self": null,
            "border": null,
            "bottom": null,
            "display": null,
            "flex": null,
            "flex_flow": null,
            "grid_area": null,
            "grid_auto_columns": null,
            "grid_auto_flow": null,
            "grid_auto_rows": null,
            "grid_column": null,
            "grid_gap": null,
            "grid_row": null,
            "grid_template_areas": null,
            "grid_template_columns": null,
            "grid_template_rows": null,
            "height": null,
            "justify_content": null,
            "justify_items": null,
            "left": null,
            "margin": null,
            "max_height": null,
            "max_width": null,
            "min_height": null,
            "min_width": null,
            "object_fit": null,
            "object_position": null,
            "order": null,
            "overflow": null,
            "overflow_x": null,
            "overflow_y": null,
            "padding": null,
            "right": null,
            "top": null,
            "visibility": null,
            "width": null
          }
        },
        "5e6519fd5d954a93aa98b358043d22af": {
          "model_module": "@jupyter-widgets/controls",
          "model_module_version": "1.5.0",
          "model_name": "DescriptionStyleModel",
          "state": {
            "_model_module": "@jupyter-widgets/controls",
            "_model_module_version": "1.5.0",
            "_model_name": "DescriptionStyleModel",
            "_view_count": null,
            "_view_module": "@jupyter-widgets/base",
            "_view_module_version": "1.2.0",
            "_view_name": "StyleView",
            "description_width": ""
          }
        },
        "607f93f4ccae42b5a66fefa8a014a984": {
          "model_module": "@jupyter-widgets/base",
          "model_module_version": "1.2.0",
          "model_name": "LayoutModel",
          "state": {
            "_model_module": "@jupyter-widgets/base",
            "_model_module_version": "1.2.0",
            "_model_name": "LayoutModel",
            "_view_count": null,
            "_view_module": "@jupyter-widgets/base",
            "_view_module_version": "1.2.0",
            "_view_name": "LayoutView",
            "align_content": null,
            "align_items": null,
            "align_self": null,
            "border": null,
            "bottom": null,
            "display": null,
            "flex": null,
            "flex_flow": null,
            "grid_area": null,
            "grid_auto_columns": null,
            "grid_auto_flow": null,
            "grid_auto_rows": null,
            "grid_column": null,
            "grid_gap": null,
            "grid_row": null,
            "grid_template_areas": null,
            "grid_template_columns": null,
            "grid_template_rows": null,
            "height": null,
            "justify_content": null,
            "justify_items": null,
            "left": null,
            "margin": null,
            "max_height": null,
            "max_width": null,
            "min_height": null,
            "min_width": null,
            "object_fit": null,
            "object_position": null,
            "order": null,
            "overflow": null,
            "overflow_x": null,
            "overflow_y": null,
            "padding": null,
            "right": null,
            "top": null,
            "visibility": null,
            "width": null
          }
        },
        "63fc2715d72446d9b7115feaad205041": {
          "model_module": "@jupyter-widgets/base",
          "model_module_version": "1.2.0",
          "model_name": "LayoutModel",
          "state": {
            "_model_module": "@jupyter-widgets/base",
            "_model_module_version": "1.2.0",
            "_model_name": "LayoutModel",
            "_view_count": null,
            "_view_module": "@jupyter-widgets/base",
            "_view_module_version": "1.2.0",
            "_view_name": "LayoutView",
            "align_content": null,
            "align_items": null,
            "align_self": null,
            "border": null,
            "bottom": null,
            "display": null,
            "flex": null,
            "flex_flow": null,
            "grid_area": null,
            "grid_auto_columns": null,
            "grid_auto_flow": null,
            "grid_auto_rows": null,
            "grid_column": null,
            "grid_gap": null,
            "grid_row": null,
            "grid_template_areas": null,
            "grid_template_columns": null,
            "grid_template_rows": null,
            "height": null,
            "justify_content": null,
            "justify_items": null,
            "left": null,
            "margin": null,
            "max_height": null,
            "max_width": null,
            "min_height": null,
            "min_width": null,
            "object_fit": null,
            "object_position": null,
            "order": null,
            "overflow": null,
            "overflow_x": null,
            "overflow_y": null,
            "padding": null,
            "right": null,
            "top": null,
            "visibility": null,
            "width": null
          }
        },
        "6ee1714e4d9d48ed9930b35eb12d0c77": {
          "model_module": "@jupyter-widgets/base",
          "model_module_version": "1.2.0",
          "model_name": "LayoutModel",
          "state": {
            "_model_module": "@jupyter-widgets/base",
            "_model_module_version": "1.2.0",
            "_model_name": "LayoutModel",
            "_view_count": null,
            "_view_module": "@jupyter-widgets/base",
            "_view_module_version": "1.2.0",
            "_view_name": "LayoutView",
            "align_content": null,
            "align_items": null,
            "align_self": null,
            "border": null,
            "bottom": null,
            "display": null,
            "flex": null,
            "flex_flow": null,
            "grid_area": null,
            "grid_auto_columns": null,
            "grid_auto_flow": null,
            "grid_auto_rows": null,
            "grid_column": null,
            "grid_gap": null,
            "grid_row": null,
            "grid_template_areas": null,
            "grid_template_columns": null,
            "grid_template_rows": null,
            "height": null,
            "justify_content": null,
            "justify_items": null,
            "left": null,
            "margin": null,
            "max_height": null,
            "max_width": null,
            "min_height": null,
            "min_width": null,
            "object_fit": null,
            "object_position": null,
            "order": null,
            "overflow": null,
            "overflow_x": null,
            "overflow_y": null,
            "padding": null,
            "right": null,
            "top": null,
            "visibility": null,
            "width": null
          }
        },
        "7325c9c85b7c4d49b8ace08951c3377a": {
          "model_module": "@jupyter-widgets/controls",
          "model_module_version": "1.5.0",
          "model_name": "FloatProgressModel",
          "state": {
            "_dom_classes": [],
            "_model_module": "@jupyter-widgets/controls",
            "_model_module_version": "1.5.0",
            "_model_name": "FloatProgressModel",
            "_view_count": null,
            "_view_module": "@jupyter-widgets/controls",
            "_view_module_version": "1.5.0",
            "_view_name": "ProgressView",
            "bar_style": "success",
            "description": "",
            "description_tooltip": null,
            "layout": "IPY_MODEL_c4b1d1fe631b4afe99048c5c8755212c",
            "max": 479,
            "min": 0,
            "orientation": "horizontal",
            "style": "IPY_MODEL_4a7ad6861426459ea51279e85e47e9ed",
            "value": 479
          }
        },
        "7e40dc1420434a4f9969a72443a99694": {
          "model_module": "@jupyter-widgets/base",
          "model_module_version": "1.2.0",
          "model_name": "LayoutModel",
          "state": {
            "_model_module": "@jupyter-widgets/base",
            "_model_module_version": "1.2.0",
            "_model_name": "LayoutModel",
            "_view_count": null,
            "_view_module": "@jupyter-widgets/base",
            "_view_module_version": "1.2.0",
            "_view_name": "LayoutView",
            "align_content": null,
            "align_items": null,
            "align_self": null,
            "border": null,
            "bottom": null,
            "display": null,
            "flex": null,
            "flex_flow": null,
            "grid_area": null,
            "grid_auto_columns": null,
            "grid_auto_flow": null,
            "grid_auto_rows": null,
            "grid_column": null,
            "grid_gap": null,
            "grid_row": null,
            "grid_template_areas": null,
            "grid_template_columns": null,
            "grid_template_rows": null,
            "height": null,
            "justify_content": null,
            "justify_items": null,
            "left": null,
            "margin": null,
            "max_height": null,
            "max_width": null,
            "min_height": null,
            "min_width": null,
            "object_fit": null,
            "object_position": null,
            "order": null,
            "overflow": null,
            "overflow_x": null,
            "overflow_y": null,
            "padding": null,
            "right": null,
            "top": null,
            "visibility": null,
            "width": null
          }
        },
        "80d79e664944425db3ffc44e40656f4d": {
          "model_module": "@jupyter-widgets/controls",
          "model_module_version": "1.5.0",
          "model_name": "HBoxModel",
          "state": {
            "_dom_classes": [],
            "_model_module": "@jupyter-widgets/controls",
            "_model_module_version": "1.5.0",
            "_model_name": "HBoxModel",
            "_view_count": null,
            "_view_module": "@jupyter-widgets/controls",
            "_view_module_version": "1.5.0",
            "_view_name": "HBoxView",
            "box_style": "",
            "children": [
              "IPY_MODEL_a0b96c778bd14b28a927b6e3d86fc00a",
              "IPY_MODEL_3047b053748a4c3496359dd04ef178f3",
              "IPY_MODEL_cef6714847344f578f6ce41d6bd541ff"
            ],
            "layout": "IPY_MODEL_fb66338803cb4cb887ea087fde86adec"
          }
        },
        "89c439610fca4288b60f6378a60e066c": {
          "model_module": "@jupyter-widgets/controls",
          "model_module_version": "1.5.0",
          "model_name": "DescriptionStyleModel",
          "state": {
            "_model_module": "@jupyter-widgets/controls",
            "_model_module_version": "1.5.0",
            "_model_name": "DescriptionStyleModel",
            "_view_count": null,
            "_view_module": "@jupyter-widgets/base",
            "_view_module_version": "1.2.0",
            "_view_name": "StyleView",
            "description_width": ""
          }
        },
        "9270ccf245104eefb5952fb23159bbc2": {
          "model_module": "@jupyter-widgets/controls",
          "model_module_version": "1.5.0",
          "model_name": "HBoxModel",
          "state": {
            "_dom_classes": [],
            "_model_module": "@jupyter-widgets/controls",
            "_model_module_version": "1.5.0",
            "_model_name": "HBoxModel",
            "_view_count": null,
            "_view_module": "@jupyter-widgets/controls",
            "_view_module_version": "1.5.0",
            "_view_name": "HBoxView",
            "box_style": "",
            "children": [
              "IPY_MODEL_9f027b8c4ef24cb5b59e6c8681187029",
              "IPY_MODEL_fe6006348ab648b695f0becc8381737b",
              "IPY_MODEL_54b69d594f3242f69b7207c917bc172a"
            ],
            "layout": "IPY_MODEL_607f93f4ccae42b5a66fefa8a014a984"
          }
        },
        "9949cf716f00496e8e4a84b7c7b7b76d": {
          "model_module": "@jupyter-widgets/controls",
          "model_module_version": "1.5.0",
          "model_name": "ProgressStyleModel",
          "state": {
            "_model_module": "@jupyter-widgets/controls",
            "_model_module_version": "1.5.0",
            "_model_name": "ProgressStyleModel",
            "_view_count": null,
            "_view_module": "@jupyter-widgets/base",
            "_view_module_version": "1.2.0",
            "_view_name": "StyleView",
            "bar_color": null,
            "description_width": ""
          }
        },
        "9e10034ba74347ecbb87b959129fc4e3": {
          "model_module": "@jupyter-widgets/controls",
          "model_module_version": "1.5.0",
          "model_name": "DescriptionStyleModel",
          "state": {
            "_model_module": "@jupyter-widgets/controls",
            "_model_module_version": "1.5.0",
            "_model_name": "DescriptionStyleModel",
            "_view_count": null,
            "_view_module": "@jupyter-widgets/base",
            "_view_module_version": "1.2.0",
            "_view_name": "StyleView",
            "description_width": ""
          }
        },
        "9f027b8c4ef24cb5b59e6c8681187029": {
          "model_module": "@jupyter-widgets/controls",
          "model_module_version": "1.5.0",
          "model_name": "HTMLModel",
          "state": {
            "_dom_classes": [],
            "_model_module": "@jupyter-widgets/controls",
            "_model_module_version": "1.5.0",
            "_model_name": "HTMLModel",
            "_view_count": null,
            "_view_module": "@jupyter-widgets/controls",
            "_view_module_version": "1.5.0",
            "_view_name": "HTMLView",
            "description": "",
            "description_tooltip": null,
            "layout": "IPY_MODEL_dbe0e10f49694f52b435c8b259f48e90",
            "placeholder": "​",
            "style": "IPY_MODEL_cd013d5be4b64cf0ac1c40e49a3690d2",
            "value": "Downloading: 100%"
          }
        },
        "a0b96c778bd14b28a927b6e3d86fc00a": {
          "model_module": "@jupyter-widgets/controls",
          "model_module_version": "1.5.0",
          "model_name": "HTMLModel",
          "state": {
            "_dom_classes": [],
            "_model_module": "@jupyter-widgets/controls",
            "_model_module_version": "1.5.0",
            "_model_name": "HTMLModel",
            "_view_count": null,
            "_view_module": "@jupyter-widgets/controls",
            "_view_module_version": "1.5.0",
            "_view_name": "HTMLView",
            "description": "",
            "description_tooltip": null,
            "layout": "IPY_MODEL_3204962fcc7448a58d25579e57695dbf",
            "placeholder": "​",
            "style": "IPY_MODEL_42a868bd3c7043b2b325a8ae9d622f7e",
            "value": "Downloading: 100%"
          }
        },
        "a64c9ea653844759aaf781efbfb14285": {
          "model_module": "@jupyter-widgets/controls",
          "model_module_version": "1.5.0",
          "model_name": "DescriptionStyleModel",
          "state": {
            "_model_module": "@jupyter-widgets/controls",
            "_model_module_version": "1.5.0",
            "_model_name": "DescriptionStyleModel",
            "_view_count": null,
            "_view_module": "@jupyter-widgets/base",
            "_view_module_version": "1.2.0",
            "_view_name": "StyleView",
            "description_width": ""
          }
        },
        "b2d8bf5e0d534b9c91c0727f933b8aa5": {
          "model_module": "@jupyter-widgets/base",
          "model_module_version": "1.2.0",
          "model_name": "LayoutModel",
          "state": {
            "_model_module": "@jupyter-widgets/base",
            "_model_module_version": "1.2.0",
            "_model_name": "LayoutModel",
            "_view_count": null,
            "_view_module": "@jupyter-widgets/base",
            "_view_module_version": "1.2.0",
            "_view_name": "LayoutView",
            "align_content": null,
            "align_items": null,
            "align_self": null,
            "border": null,
            "bottom": null,
            "display": null,
            "flex": null,
            "flex_flow": null,
            "grid_area": null,
            "grid_auto_columns": null,
            "grid_auto_flow": null,
            "grid_auto_rows": null,
            "grid_column": null,
            "grid_gap": null,
            "grid_row": null,
            "grid_template_areas": null,
            "grid_template_columns": null,
            "grid_template_rows": null,
            "height": null,
            "justify_content": null,
            "justify_items": null,
            "left": null,
            "margin": null,
            "max_height": null,
            "max_width": null,
            "min_height": null,
            "min_width": null,
            "object_fit": null,
            "object_position": null,
            "order": null,
            "overflow": null,
            "overflow_x": null,
            "overflow_y": null,
            "padding": null,
            "right": null,
            "top": null,
            "visibility": null,
            "width": null
          }
        },
        "b5816585d9194d37982935691bcef3a7": {
          "model_module": "@jupyter-widgets/controls",
          "model_module_version": "1.5.0",
          "model_name": "HBoxModel",
          "state": {
            "_dom_classes": [],
            "_model_module": "@jupyter-widgets/controls",
            "_model_module_version": "1.5.0",
            "_model_name": "HBoxModel",
            "_view_count": null,
            "_view_module": "@jupyter-widgets/controls",
            "_view_module_version": "1.5.0",
            "_view_name": "HBoxView",
            "box_style": "",
            "children": [
              "IPY_MODEL_171c8f2dc8fd47fca3ed8935abbc8775",
              "IPY_MODEL_7325c9c85b7c4d49b8ace08951c3377a",
              "IPY_MODEL_b6db3707c95f41beb92ae0ba2a0036fb"
            ],
            "layout": "IPY_MODEL_7e40dc1420434a4f9969a72443a99694"
          }
        },
        "b6db3707c95f41beb92ae0ba2a0036fb": {
          "model_module": "@jupyter-widgets/controls",
          "model_module_version": "1.5.0",
          "model_name": "HTMLModel",
          "state": {
            "_dom_classes": [],
            "_model_module": "@jupyter-widgets/controls",
            "_model_module_version": "1.5.0",
            "_model_name": "HTMLModel",
            "_view_count": null,
            "_view_module": "@jupyter-widgets/controls",
            "_view_module_version": "1.5.0",
            "_view_name": "HTMLView",
            "description": "",
            "description_tooltip": null,
            "layout": "IPY_MODEL_34ef02d0e8824eb4803372814f5d30a0",
            "placeholder": "​",
            "style": "IPY_MODEL_89c439610fca4288b60f6378a60e066c",
            "value": " 479/479 [00:00&lt;00:00, 18.1kB/s]"
          }
        },
        "bb7d39619a4545b1aa0efbe5e2c005dd": {
          "model_module": "@jupyter-widgets/base",
          "model_module_version": "1.2.0",
          "model_name": "LayoutModel",
          "state": {
            "_model_module": "@jupyter-widgets/base",
            "_model_module_version": "1.2.0",
            "_model_name": "LayoutModel",
            "_view_count": null,
            "_view_module": "@jupyter-widgets/base",
            "_view_module_version": "1.2.0",
            "_view_name": "LayoutView",
            "align_content": null,
            "align_items": null,
            "align_self": null,
            "border": null,
            "bottom": null,
            "display": null,
            "flex": null,
            "flex_flow": null,
            "grid_area": null,
            "grid_auto_columns": null,
            "grid_auto_flow": null,
            "grid_auto_rows": null,
            "grid_column": null,
            "grid_gap": null,
            "grid_row": null,
            "grid_template_areas": null,
            "grid_template_columns": null,
            "grid_template_rows": null,
            "height": null,
            "justify_content": null,
            "justify_items": null,
            "left": null,
            "margin": null,
            "max_height": null,
            "max_width": null,
            "min_height": null,
            "min_width": null,
            "object_fit": null,
            "object_position": null,
            "order": null,
            "overflow": null,
            "overflow_x": null,
            "overflow_y": null,
            "padding": null,
            "right": null,
            "top": null,
            "visibility": null,
            "width": null
          }
        },
        "bba84d5cc84542b4addf03278337ffa1": {
          "model_module": "@jupyter-widgets/controls",
          "model_module_version": "1.5.0",
          "model_name": "DescriptionStyleModel",
          "state": {
            "_model_module": "@jupyter-widgets/controls",
            "_model_module_version": "1.5.0",
            "_model_name": "DescriptionStyleModel",
            "_view_count": null,
            "_view_module": "@jupyter-widgets/base",
            "_view_module_version": "1.2.0",
            "_view_name": "StyleView",
            "description_width": ""
          }
        },
        "bc3dd183de9247aaab7efece14a47df2": {
          "model_module": "@jupyter-widgets/base",
          "model_module_version": "1.2.0",
          "model_name": "LayoutModel",
          "state": {
            "_model_module": "@jupyter-widgets/base",
            "_model_module_version": "1.2.0",
            "_model_name": "LayoutModel",
            "_view_count": null,
            "_view_module": "@jupyter-widgets/base",
            "_view_module_version": "1.2.0",
            "_view_name": "LayoutView",
            "align_content": null,
            "align_items": null,
            "align_self": null,
            "border": null,
            "bottom": null,
            "display": null,
            "flex": null,
            "flex_flow": null,
            "grid_area": null,
            "grid_auto_columns": null,
            "grid_auto_flow": null,
            "grid_auto_rows": null,
            "grid_column": null,
            "grid_gap": null,
            "grid_row": null,
            "grid_template_areas": null,
            "grid_template_columns": null,
            "grid_template_rows": null,
            "height": null,
            "justify_content": null,
            "justify_items": null,
            "left": null,
            "margin": null,
            "max_height": null,
            "max_width": null,
            "min_height": null,
            "min_width": null,
            "object_fit": null,
            "object_position": null,
            "order": null,
            "overflow": null,
            "overflow_x": null,
            "overflow_y": null,
            "padding": null,
            "right": null,
            "top": null,
            "visibility": null,
            "width": null
          }
        },
        "c4b1d1fe631b4afe99048c5c8755212c": {
          "model_module": "@jupyter-widgets/base",
          "model_module_version": "1.2.0",
          "model_name": "LayoutModel",
          "state": {
            "_model_module": "@jupyter-widgets/base",
            "_model_module_version": "1.2.0",
            "_model_name": "LayoutModel",
            "_view_count": null,
            "_view_module": "@jupyter-widgets/base",
            "_view_module_version": "1.2.0",
            "_view_name": "LayoutView",
            "align_content": null,
            "align_items": null,
            "align_self": null,
            "border": null,
            "bottom": null,
            "display": null,
            "flex": null,
            "flex_flow": null,
            "grid_area": null,
            "grid_auto_columns": null,
            "grid_auto_flow": null,
            "grid_auto_rows": null,
            "grid_column": null,
            "grid_gap": null,
            "grid_row": null,
            "grid_template_areas": null,
            "grid_template_columns": null,
            "grid_template_rows": null,
            "height": null,
            "justify_content": null,
            "justify_items": null,
            "left": null,
            "margin": null,
            "max_height": null,
            "max_width": null,
            "min_height": null,
            "min_width": null,
            "object_fit": null,
            "object_position": null,
            "order": null,
            "overflow": null,
            "overflow_x": null,
            "overflow_y": null,
            "padding": null,
            "right": null,
            "top": null,
            "visibility": null,
            "width": null
          }
        },
        "cd013d5be4b64cf0ac1c40e49a3690d2": {
          "model_module": "@jupyter-widgets/controls",
          "model_module_version": "1.5.0",
          "model_name": "DescriptionStyleModel",
          "state": {
            "_model_module": "@jupyter-widgets/controls",
            "_model_module_version": "1.5.0",
            "_model_name": "DescriptionStyleModel",
            "_view_count": null,
            "_view_module": "@jupyter-widgets/base",
            "_view_module_version": "1.2.0",
            "_view_name": "StyleView",
            "description_width": ""
          }
        },
        "cd8c6a592b25447889b70dec025f977e": {
          "model_module": "@jupyter-widgets/base",
          "model_module_version": "1.2.0",
          "model_name": "LayoutModel",
          "state": {
            "_model_module": "@jupyter-widgets/base",
            "_model_module_version": "1.2.0",
            "_model_name": "LayoutModel",
            "_view_count": null,
            "_view_module": "@jupyter-widgets/base",
            "_view_module_version": "1.2.0",
            "_view_name": "LayoutView",
            "align_content": null,
            "align_items": null,
            "align_self": null,
            "border": null,
            "bottom": null,
            "display": null,
            "flex": null,
            "flex_flow": null,
            "grid_area": null,
            "grid_auto_columns": null,
            "grid_auto_flow": null,
            "grid_auto_rows": null,
            "grid_column": null,
            "grid_gap": null,
            "grid_row": null,
            "grid_template_areas": null,
            "grid_template_columns": null,
            "grid_template_rows": null,
            "height": null,
            "justify_content": null,
            "justify_items": null,
            "left": null,
            "margin": null,
            "max_height": null,
            "max_width": null,
            "min_height": null,
            "min_width": null,
            "object_fit": null,
            "object_position": null,
            "order": null,
            "overflow": null,
            "overflow_x": null,
            "overflow_y": null,
            "padding": null,
            "right": null,
            "top": null,
            "visibility": null,
            "width": null
          }
        },
        "cef6714847344f578f6ce41d6bd541ff": {
          "model_module": "@jupyter-widgets/controls",
          "model_module_version": "1.5.0",
          "model_name": "HTMLModel",
          "state": {
            "_dom_classes": [],
            "_model_module": "@jupyter-widgets/controls",
            "_model_module_version": "1.5.0",
            "_model_name": "HTMLModel",
            "_view_count": null,
            "_view_module": "@jupyter-widgets/controls",
            "_view_module_version": "1.5.0",
            "_view_name": "HTMLView",
            "description": "",
            "description_tooltip": null,
            "layout": "IPY_MODEL_63fc2715d72446d9b7115feaad205041",
            "placeholder": "​",
            "style": "IPY_MODEL_a64c9ea653844759aaf781efbfb14285",
            "value": " 110/110 [00:00&lt;00:00, 5.48kB/s]"
          }
        },
        "d8a9ddf72099443083fbcf72c41dac60": {
          "model_module": "@jupyter-widgets/base",
          "model_module_version": "1.2.0",
          "model_name": "LayoutModel",
          "state": {
            "_model_module": "@jupyter-widgets/base",
            "_model_module_version": "1.2.0",
            "_model_name": "LayoutModel",
            "_view_count": null,
            "_view_module": "@jupyter-widgets/base",
            "_view_module_version": "1.2.0",
            "_view_name": "LayoutView",
            "align_content": null,
            "align_items": null,
            "align_self": null,
            "border": null,
            "bottom": null,
            "display": null,
            "flex": null,
            "flex_flow": null,
            "grid_area": null,
            "grid_auto_columns": null,
            "grid_auto_flow": null,
            "grid_auto_rows": null,
            "grid_column": null,
            "grid_gap": null,
            "grid_row": null,
            "grid_template_areas": null,
            "grid_template_columns": null,
            "grid_template_rows": null,
            "height": null,
            "justify_content": null,
            "justify_items": null,
            "left": null,
            "margin": null,
            "max_height": null,
            "max_width": null,
            "min_height": null,
            "min_width": null,
            "object_fit": null,
            "object_position": null,
            "order": null,
            "overflow": null,
            "overflow_x": null,
            "overflow_y": null,
            "padding": null,
            "right": null,
            "top": null,
            "visibility": null,
            "width": null
          }
        },
        "dbe0e10f49694f52b435c8b259f48e90": {
          "model_module": "@jupyter-widgets/base",
          "model_module_version": "1.2.0",
          "model_name": "LayoutModel",
          "state": {
            "_model_module": "@jupyter-widgets/base",
            "_model_module_version": "1.2.0",
            "_model_name": "LayoutModel",
            "_view_count": null,
            "_view_module": "@jupyter-widgets/base",
            "_view_module_version": "1.2.0",
            "_view_name": "LayoutView",
            "align_content": null,
            "align_items": null,
            "align_self": null,
            "border": null,
            "bottom": null,
            "display": null,
            "flex": null,
            "flex_flow": null,
            "grid_area": null,
            "grid_auto_columns": null,
            "grid_auto_flow": null,
            "grid_auto_rows": null,
            "grid_column": null,
            "grid_gap": null,
            "grid_row": null,
            "grid_template_areas": null,
            "grid_template_columns": null,
            "grid_template_rows": null,
            "height": null,
            "justify_content": null,
            "justify_items": null,
            "left": null,
            "margin": null,
            "max_height": null,
            "max_width": null,
            "min_height": null,
            "min_width": null,
            "object_fit": null,
            "object_position": null,
            "order": null,
            "overflow": null,
            "overflow_x": null,
            "overflow_y": null,
            "padding": null,
            "right": null,
            "top": null,
            "visibility": null,
            "width": null
          }
        },
        "e3ee9efc734a4b88ade318627d6d19f1": {
          "model_module": "@jupyter-widgets/controls",
          "model_module_version": "1.5.0",
          "model_name": "ProgressStyleModel",
          "state": {
            "_model_module": "@jupyter-widgets/controls",
            "_model_module_version": "1.5.0",
            "_model_name": "ProgressStyleModel",
            "_view_count": null,
            "_view_module": "@jupyter-widgets/base",
            "_view_module_version": "1.2.0",
            "_view_name": "StyleView",
            "bar_color": null,
            "description_width": ""
          }
        },
        "f767afa7cc9a4ba0974e303eca3ddb0f": {
          "model_module": "@jupyter-widgets/controls",
          "model_module_version": "1.5.0",
          "model_name": "FloatProgressModel",
          "state": {
            "_dom_classes": [],
            "_model_module": "@jupyter-widgets/controls",
            "_model_module_version": "1.5.0",
            "_model_name": "FloatProgressModel",
            "_view_count": null,
            "_view_module": "@jupyter-widgets/controls",
            "_view_module_version": "1.5.0",
            "_view_name": "ProgressView",
            "bar_style": "success",
            "description": "",
            "description_tooltip": null,
            "layout": "IPY_MODEL_b2d8bf5e0d534b9c91c0727f933b8aa5",
            "max": 257706,
            "min": 0,
            "orientation": "horizontal",
            "style": "IPY_MODEL_214ea022891c4ffba55dd2d78f561490",
            "value": 257706
          }
        },
        "fb66338803cb4cb887ea087fde86adec": {
          "model_module": "@jupyter-widgets/base",
          "model_module_version": "1.2.0",
          "model_name": "LayoutModel",
          "state": {
            "_model_module": "@jupyter-widgets/base",
            "_model_module_version": "1.2.0",
            "_model_name": "LayoutModel",
            "_view_count": null,
            "_view_module": "@jupyter-widgets/base",
            "_view_module_version": "1.2.0",
            "_view_name": "LayoutView",
            "align_content": null,
            "align_items": null,
            "align_self": null,
            "border": null,
            "bottom": null,
            "display": null,
            "flex": null,
            "flex_flow": null,
            "grid_area": null,
            "grid_auto_columns": null,
            "grid_auto_flow": null,
            "grid_auto_rows": null,
            "grid_column": null,
            "grid_gap": null,
            "grid_row": null,
            "grid_template_areas": null,
            "grid_template_columns": null,
            "grid_template_rows": null,
            "height": null,
            "justify_content": null,
            "justify_items": null,
            "left": null,
            "margin": null,
            "max_height": null,
            "max_width": null,
            "min_height": null,
            "min_width": null,
            "object_fit": null,
            "object_position": null,
            "order": null,
            "overflow": null,
            "overflow_x": null,
            "overflow_y": null,
            "padding": null,
            "right": null,
            "top": null,
            "visibility": null,
            "width": null
          }
        },
        "fe6006348ab648b695f0becc8381737b": {
          "model_module": "@jupyter-widgets/controls",
          "model_module_version": "1.5.0",
          "model_name": "FloatProgressModel",
          "state": {
            "_dom_classes": [],
            "_model_module": "@jupyter-widgets/controls",
            "_model_module_version": "1.5.0",
            "_model_name": "FloatProgressModel",
            "_view_count": null,
            "_view_module": "@jupyter-widgets/controls",
            "_view_module_version": "1.5.0",
            "_view_name": "ProgressView",
            "bar_style": "success",
            "description": "",
            "description_tooltip": null,
            "layout": "IPY_MODEL_bb7d39619a4545b1aa0efbe5e2c005dd",
            "max": 445021143,
            "min": 0,
            "orientation": "horizontal",
            "style": "IPY_MODEL_9949cf716f00496e8e4a84b7c7b7b76d",
            "value": 445021143
          }
        }
      }
    }
  },
  "nbformat": 4,
  "nbformat_minor": 0
}
